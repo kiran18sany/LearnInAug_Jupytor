{
 "cells": [
  {
   "cell_type": "markdown",
   "id": "8967d577-46c2-477f-859d-5feb3d2779e1",
   "metadata": {},
   "source": [
    "## Errors and Exceptions"
   ]
  },
  {
   "cell_type": "code",
   "execution_count": 9,
   "id": "824fb259-6c30-4bbc-9f75-4d15865b2ccd",
   "metadata": {},
   "outputs": [],
   "source": [
    "import time"
   ]
  },
  {
   "cell_type": "code",
   "execution_count": 1,
   "id": "2a739119-8ca0-4e38-8cc6-9715c8e89d6f",
   "metadata": {},
   "outputs": [
    {
     "ename": "ZeroDivisionError",
     "evalue": "division by zero",
     "output_type": "error",
     "traceback": [
      "\u001b[1;31m---------------------------------------------------------------------------\u001b[0m",
      "\u001b[1;31mZeroDivisionError\u001b[0m                         Traceback (most recent call last)",
      "Cell \u001b[1;32mIn[1], line 1\u001b[0m\n\u001b[1;32m----> 1\u001b[0m \u001b[38;5;241;43m1\u001b[39;49m\u001b[38;5;241;43m/\u001b[39;49m\u001b[38;5;241;43m0\u001b[39;49m\n",
      "\u001b[1;31mZeroDivisionError\u001b[0m: division by zero"
     ]
    }
   ],
   "source": [
    "1/0"
   ]
  },
  {
   "cell_type": "markdown",
   "id": "5d0ed627-a2bb-4292-82e0-562ce54a3368",
   "metadata": {},
   "source": [
    "## Try/Except"
   ]
  },
  {
   "cell_type": "code",
   "execution_count": 2,
   "id": "365b2377-1e96-456d-9b3c-249fd42bc653",
   "metadata": {},
   "outputs": [
    {
     "ename": "ZeroDivisionError",
     "evalue": "division by zero",
     "output_type": "error",
     "traceback": [
      "\u001b[1;31m---------------------------------------------------------------------------\u001b[0m",
      "\u001b[1;31mZeroDivisionError\u001b[0m                         Traceback (most recent call last)",
      "Cell \u001b[1;32mIn[2], line 4\u001b[0m\n\u001b[0;32m      1\u001b[0m \u001b[38;5;28;01mdef\u001b[39;00m\u001b[38;5;250m \u001b[39m\u001b[38;5;21mcauseError\u001b[39m():\n\u001b[0;32m      2\u001b[0m     \u001b[38;5;28;01mreturn\u001b[39;00m \u001b[38;5;241m1\u001b[39m\u001b[38;5;241m/\u001b[39m\u001b[38;5;241m0\u001b[39m\n\u001b[1;32m----> 4\u001b[0m \u001b[43mcauseError\u001b[49m\u001b[43m(\u001b[49m\u001b[43m)\u001b[49m    \n",
      "Cell \u001b[1;32mIn[2], line 2\u001b[0m, in \u001b[0;36mcauseError\u001b[1;34m()\u001b[0m\n\u001b[0;32m      1\u001b[0m \u001b[38;5;28;01mdef\u001b[39;00m\u001b[38;5;250m \u001b[39m\u001b[38;5;21mcauseError\u001b[39m():\n\u001b[1;32m----> 2\u001b[0m     \u001b[38;5;28;01mreturn\u001b[39;00m \u001b[38;5;241;43m1\u001b[39;49m\u001b[38;5;241;43m/\u001b[39;49m\u001b[38;5;241;43m0\u001b[39;49m\n",
      "\u001b[1;31mZeroDivisionError\u001b[0m: division by zero"
     ]
    }
   ],
   "source": [
    "def causeError():\n",
    "    return 1/0\n",
    "\n",
    "causeError()    "
   ]
  },
  {
   "cell_type": "code",
   "execution_count": 3,
   "id": "9d7c5cec-5197-48c7-84df-e2aeb861068b",
   "metadata": {},
   "outputs": [
    {
     "ename": "ZeroDivisionError",
     "evalue": "division by zero",
     "output_type": "error",
     "traceback": [
      "\u001b[1;31m---------------------------------------------------------------------------\u001b[0m",
      "\u001b[1;31mZeroDivisionError\u001b[0m                         Traceback (most recent call last)",
      "Cell \u001b[1;32mIn[3], line 6\u001b[0m\n\u001b[0;32m      3\u001b[0m \u001b[38;5;28;01mdef\u001b[39;00m\u001b[38;5;250m \u001b[39m\u001b[38;5;21mcallCauseError\u001b[39m():\n\u001b[0;32m      4\u001b[0m     \u001b[38;5;28;01mreturn\u001b[39;00m causeError()\n\u001b[1;32m----> 6\u001b[0m \u001b[43mcallCauseError\u001b[49m\u001b[43m(\u001b[49m\u001b[43m)\u001b[49m   \n",
      "Cell \u001b[1;32mIn[3], line 4\u001b[0m, in \u001b[0;36mcallCauseError\u001b[1;34m()\u001b[0m\n\u001b[0;32m      3\u001b[0m \u001b[38;5;28;01mdef\u001b[39;00m\u001b[38;5;250m \u001b[39m\u001b[38;5;21mcallCauseError\u001b[39m():\n\u001b[1;32m----> 4\u001b[0m     \u001b[38;5;28;01mreturn\u001b[39;00m \u001b[43mcauseError\u001b[49m\u001b[43m(\u001b[49m\u001b[43m)\u001b[49m\n",
      "Cell \u001b[1;32mIn[3], line 2\u001b[0m, in \u001b[0;36mcauseError\u001b[1;34m()\u001b[0m\n\u001b[0;32m      1\u001b[0m \u001b[38;5;28;01mdef\u001b[39;00m\u001b[38;5;250m \u001b[39m\u001b[38;5;21mcauseError\u001b[39m():\n\u001b[1;32m----> 2\u001b[0m     \u001b[38;5;28;01mreturn\u001b[39;00m \u001b[38;5;241;43m1\u001b[39;49m\u001b[38;5;241;43m/\u001b[39;49m\u001b[38;5;241;43m0\u001b[39;49m\n",
      "\u001b[1;31mZeroDivisionError\u001b[0m: division by zero"
     ]
    }
   ],
   "source": [
    "def causeError():\n",
    "    return 1/0\n",
    "def callCauseError():\n",
    "    return causeError()\n",
    "\n",
    "callCauseError()   \n"
   ]
  },
  {
   "cell_type": "markdown",
   "id": "f6021a4b-9aa0-454e-82dc-120deb55d259",
   "metadata": {},
   "source": [
    "## Try/Except"
   ]
  },
  {
   "cell_type": "code",
   "execution_count": 4,
   "id": "63a58fd3-6831-4d6c-bd97-698efe4b410a",
   "metadata": {},
   "outputs": [
    {
     "name": "stdout",
     "output_type": "stream",
     "text": [
      "<class 'ZeroDivisionError'>\n"
     ]
    }
   ],
   "source": [
    "try:\n",
    "    1/0\n",
    "except Exception as e:\n",
    "    print(type(e))\n",
    "    "
   ]
  },
  {
   "cell_type": "code",
   "execution_count": 6,
   "id": "1b61de9c-94f4-4ddd-9408-632cbabeccd6",
   "metadata": {},
   "outputs": [
    {
     "data": {
      "text/plain": [
       "ZeroDivisionError('division by zero')"
      ]
     },
     "execution_count": 6,
     "metadata": {},
     "output_type": "execute_result"
    }
   ],
   "source": [
    "def causeError():\n",
    "    try:\n",
    "        return 1/0\n",
    "    except Exception as e:\n",
    "        return e\n",
    "causeError()"
   ]
  },
  {
   "cell_type": "code",
   "execution_count": 7,
   "id": "41c2b34c-f0c4-47e0-8fdc-b800c9868d84",
   "metadata": {},
   "outputs": [
    {
     "name": "stdout",
     "output_type": "stream",
     "text": [
      "There was some sort of error!\n"
     ]
    }
   ],
   "source": [
    "def causeError():\n",
    "    try:\n",
    "        return 1/0\n",
    "    except Exception as e:\n",
    "        print('There was some sort of error!')\n",
    "causeError()"
   ]
  },
  {
   "cell_type": "markdown",
   "id": "1a6dd933-4810-4e43-851b-899949d53632",
   "metadata": {},
   "source": [
    "## Finally"
   ]
  },
  {
   "cell_type": "code",
   "execution_count": 8,
   "id": "0fc5920d-7f23-464a-a13f-9f87019f6c59",
   "metadata": {},
   "outputs": [
    {
     "name": "stdout",
     "output_type": "stream",
     "text": [
      "There was some sort of error!\n",
      "This will always execute !\n"
     ]
    }
   ],
   "source": [
    "def causeError():\n",
    "    try:\n",
    "        return 1/0\n",
    "    except Exception as e:\n",
    "        print('There was some sort of error!')\n",
    "    finally:\n",
    "        print('This will always execute !')\n",
    "causeError()"
   ]
  },
  {
   "cell_type": "code",
   "execution_count": 11,
   "id": "07c8605a-bfa3-422a-86f5-eb53877f5c15",
   "metadata": {},
   "outputs": [
    {
     "name": "stdout",
     "output_type": "stream",
     "text": [
      "Function took 0.5096545219421387 seconds to execute\n"
     ]
    },
    {
     "data": {
      "text/plain": [
       "1.0"
      ]
     },
     "execution_count": 11,
     "metadata": {},
     "output_type": "execute_result"
    }
   ],
   "source": [
    "def causeError():\n",
    "    start = time.time()\n",
    "    try:\n",
    "        time.sleep(0.5)\n",
    "        return 1/1\n",
    "    except Exception as e:\n",
    "        print('There was some sort of error!')\n",
    "    finally:\n",
    "        print(f'Function took { time.time()-start } seconds to execute')\n",
    "        \n",
    "causeError()"
   ]
  },
  {
   "cell_type": "markdown",
   "id": "85d01806-2494-4045-a545-0d1c8f945003",
   "metadata": {},
   "source": [
    "## Catching Exception by type"
   ]
  },
  {
   "cell_type": "code",
   "execution_count": 12,
   "id": "0c28916a-1fc1-4261-a19a-552d66e9f3d5",
   "metadata": {},
   "outputs": [
    {
     "name": "stdout",
     "output_type": "stream",
     "text": [
      "There was a zero division error!\n"
     ]
    }
   ],
   "source": [
    "def causeError():\n",
    "    try:\n",
    "        return 1/0\n",
    "    except TypeError:   \n",
    "        print('There was a type error!')    \n",
    "    except ZeroDivisionError:   \n",
    "        print('There was a zero division error!')\n",
    "    except Exception:\n",
    "        print('There was some sort of error!')\n",
    "causeError()"
   ]
  },
  {
   "cell_type": "code",
   "execution_count": 13,
   "id": "8d91c98c-4ebb-4c7a-b2b3-ecd2e55a518f",
   "metadata": {},
   "outputs": [
    {
     "name": "stdout",
     "output_type": "stream",
     "text": [
      "There was a type error!\n"
     ]
    }
   ],
   "source": [
    "def causeError():\n",
    "    try:\n",
    "        return 1 + 'a'\n",
    "    except TypeError:   \n",
    "        print('There was a type error!')    \n",
    "    except ZeroDivisionError:   \n",
    "        print('There was a zero division error!')\n",
    "    except Exception:\n",
    "        print('There was some sort of error!')\n",
    "causeError()"
   ]
  },
  {
   "cell_type": "markdown",
   "id": "f206ef5a-4ee1-40d8-99b8-d836fad3a9eb",
   "metadata": {},
   "source": [
    "## Custom Decorators"
   ]
  },
  {
   "cell_type": "code",
   "execution_count": 15,
   "id": "a616a735-0211-4c35-9678-c285056997a7",
   "metadata": {},
   "outputs": [
    {
     "name": "stdout",
     "output_type": "stream",
     "text": [
      "There was a zero division error!\n"
     ]
    }
   ],
   "source": [
    "def handleException(func):\n",
    "    def wrapper():\n",
    "        try:\n",
    "            func()\n",
    "        except TypeError :\n",
    "             print('There was a type error!') \n",
    "        except ZeroDivisionError :\n",
    "             print('There was a zero division error!') \n",
    "        except Exception :\n",
    "             print('There was some sort of error!')  \n",
    "    return wrapper  \n",
    "        \n",
    "@handleException\n",
    "def causeError():\n",
    "    return 1/0\n",
    "\n",
    "causeError()    \n",
    "            \n",
    "      "
   ]
  },
  {
   "cell_type": "markdown",
   "id": "71c25d30-5599-4166-8fe2-de94a618d8c7",
   "metadata": {},
   "source": [
    "## Raising Exceptions"
   ]
  },
  {
   "cell_type": "code",
   "execution_count": 18,
   "id": "c24d2237-57ab-4f5b-9cbb-d073ea24031f",
   "metadata": {},
   "outputs": [
    {
     "name": "stdout",
     "output_type": "stream",
     "text": [
      "There was a zero division error!\n"
     ]
    }
   ],
   "source": [
    "def handleException(func):\n",
    "    def wrapper(*args):\n",
    "        try:\n",
    "            func(*args)\n",
    "        except TypeError :\n",
    "             print('There was a type error!') \n",
    "        except ZeroDivisionError :\n",
    "             print('There was a zero division error!') \n",
    "        except Exception :\n",
    "             print('There was some sort of error!')  \n",
    "    return wrapper  \n",
    "        \n",
    "@handleException\n",
    "def causeError():\n",
    "    return 1/0\n",
    "\n",
    "causeError()    \n",
    "            "
   ]
  },
  {
   "cell_type": "code",
   "execution_count": 17,
   "id": "f9fcccce-8270-4b9f-8f75-6b0870fed77a",
   "metadata": {},
   "outputs": [
    {
     "name": "stdout",
     "output_type": "stream",
     "text": [
      "There was some sort of error!\n"
     ]
    }
   ],
   "source": [
    "@handleException\n",
    "def raiseError(n):\n",
    "    if n==0:\n",
    "        raise Exception()\n",
    "    print(n)\n",
    "\n",
    "raiseError()    "
   ]
  },
  {
   "cell_type": "code",
   "execution_count": 19,
   "id": "1f521ddf-6850-4e63-8ea0-f62fc5208ae1",
   "metadata": {},
   "outputs": [
    {
     "name": "stdout",
     "output_type": "stream",
     "text": [
      "There was some sort of error!\n"
     ]
    }
   ],
   "source": [
    "@handleException\n",
    "def raiseError(n):\n",
    "    if n==0:\n",
    "        raise Exception()\n",
    "    print(n)\n",
    "\n",
    "raiseError(0)    "
   ]
  },
  {
   "cell_type": "markdown",
   "id": "6738c40f-26ba-4ebb-b316-239d040c95b4",
   "metadata": {},
   "source": [
    "## Custome Exception"
   ]
  },
  {
   "cell_type": "code",
   "execution_count": 20,
   "id": "486094c9-0585-42e2-a4f7-e7c79fcc20f3",
   "metadata": {},
   "outputs": [
    {
     "ename": "CustomException",
     "evalue": "you called causeError",
     "output_type": "error",
     "traceback": [
      "\u001b[1;31m---------------------------------------------------------------------------\u001b[0m",
      "\u001b[1;31mCustomException\u001b[0m                           Traceback (most recent call last)",
      "Cell \u001b[1;32mIn[20], line 5\u001b[0m\n\u001b[0;32m      3\u001b[0m \u001b[38;5;28;01mdef\u001b[39;00m\u001b[38;5;250m \u001b[39m\u001b[38;5;21mcauseError\u001b[39m():\n\u001b[0;32m      4\u001b[0m     \u001b[38;5;28;01mraise\u001b[39;00m CustomException(\u001b[38;5;124m'\u001b[39m\u001b[38;5;124myou called causeError\u001b[39m\u001b[38;5;124m'\u001b[39m)\n\u001b[1;32m----> 5\u001b[0m \u001b[43mcauseError\u001b[49m\u001b[43m(\u001b[49m\u001b[43m)\u001b[49m    \n",
      "Cell \u001b[1;32mIn[20], line 4\u001b[0m, in \u001b[0;36mcauseError\u001b[1;34m()\u001b[0m\n\u001b[0;32m      3\u001b[0m \u001b[38;5;28;01mdef\u001b[39;00m\u001b[38;5;250m \u001b[39m\u001b[38;5;21mcauseError\u001b[39m():\n\u001b[1;32m----> 4\u001b[0m     \u001b[38;5;28;01mraise\u001b[39;00m CustomException(\u001b[38;5;124m'\u001b[39m\u001b[38;5;124myou called causeError\u001b[39m\u001b[38;5;124m'\u001b[39m)\n",
      "\u001b[1;31mCustomException\u001b[0m: you called causeError"
     ]
    }
   ],
   "source": [
    "class CustomException(Exception):\n",
    "    pass\n",
    "def causeError():\n",
    "    raise CustomException('you called causeError')\n",
    "causeError()    "
   ]
  },
  {
   "cell_type": "markdown",
   "id": "4e19c953-3f01-43d4-b55b-ee03525cdc01",
   "metadata": {},
   "source": [
    "## Adding Attributes"
   ]
  },
  {
   "cell_type": "code",
   "execution_count": 25,
   "id": "0c7744bf-fafa-46ff-a115-555984d65a3b",
   "metadata": {},
   "outputs": [
    {
     "ename": "ServerError",
     "evalue": "Status code : 500 amd message is : The server messed !!",
     "output_type": "error",
     "traceback": [
      "\u001b[1;31m---------------------------------------------------------------------------\u001b[0m",
      "\u001b[1;31mServerError\u001b[0m                               Traceback (most recent call last)",
      "Cell \u001b[1;32mIn[25], line 15\u001b[0m\n\u001b[0;32m     13\u001b[0m \u001b[38;5;28;01mdef\u001b[39;00m\u001b[38;5;250m \u001b[39m\u001b[38;5;21mraiseServerError\u001b[39m():\n\u001b[0;32m     14\u001b[0m     \u001b[38;5;28;01mraise\u001b[39;00m ServerError()\n\u001b[1;32m---> 15\u001b[0m \u001b[43mraiseServerError\u001b[49m\u001b[43m(\u001b[49m\u001b[43m)\u001b[49m\n",
      "Cell \u001b[1;32mIn[25], line 14\u001b[0m, in \u001b[0;36mraiseServerError\u001b[1;34m()\u001b[0m\n\u001b[0;32m     13\u001b[0m \u001b[38;5;28;01mdef\u001b[39;00m\u001b[38;5;250m \u001b[39m\u001b[38;5;21mraiseServerError\u001b[39m():\n\u001b[1;32m---> 14\u001b[0m     \u001b[38;5;28;01mraise\u001b[39;00m ServerError()\n",
      "\u001b[1;31mServerError\u001b[0m: Status code : 500 amd message is : The server messed !!"
     ]
    }
   ],
   "source": [
    "class HttpException (Exception):\n",
    "    statusCode = None\n",
    "    message=None\n",
    "    def __init__(self):\n",
    "        super().__init__(f'Status code : {self.statusCode} amd message is : {self.message}')\n",
    "\n",
    "class NotFound(HttpException):\n",
    "    statusCode=404\n",
    "    message='Resource not found'\n",
    "class ServerError(HttpException):\n",
    "    statusCode=500\n",
    "    message='The server messed !!'\n",
    "def raiseServerError():\n",
    "    raise ServerError()\n",
    "raiseServerError()\n",
    "\n",
    "        "
   ]
  },
  {
   "cell_type": "code",
   "execution_count": 26,
   "id": "faebe834-bd90-4ca1-b35d-6490c0d95138",
   "metadata": {},
   "outputs": [
    {
     "ename": "NotFound",
     "evalue": "Status code : 404 amd message is : Resource not found",
     "output_type": "error",
     "traceback": [
      "\u001b[1;31m---------------------------------------------------------------------------\u001b[0m",
      "\u001b[1;31mNotFound\u001b[0m                                  Traceback (most recent call last)",
      "Cell \u001b[1;32mIn[26], line 17\u001b[0m\n\u001b[0;32m     15\u001b[0m \u001b[38;5;28;01mdef\u001b[39;00m\u001b[38;5;250m \u001b[39m\u001b[38;5;21mraiseNotFoundError\u001b[39m():\n\u001b[0;32m     16\u001b[0m     \u001b[38;5;28;01mraise\u001b[39;00m NotFound()\n\u001b[1;32m---> 17\u001b[0m \u001b[43mraiseNotFoundError\u001b[49m\u001b[43m(\u001b[49m\u001b[43m)\u001b[49m\n",
      "Cell \u001b[1;32mIn[26], line 16\u001b[0m, in \u001b[0;36mraiseNotFoundError\u001b[1;34m()\u001b[0m\n\u001b[0;32m     15\u001b[0m \u001b[38;5;28;01mdef\u001b[39;00m\u001b[38;5;250m \u001b[39m\u001b[38;5;21mraiseNotFoundError\u001b[39m():\n\u001b[1;32m---> 16\u001b[0m     \u001b[38;5;28;01mraise\u001b[39;00m NotFound()\n",
      "\u001b[1;31mNotFound\u001b[0m: Status code : 404 amd message is : Resource not found"
     ]
    }
   ],
   "source": [
    "class HttpException (Exception):\n",
    "    statusCode = None\n",
    "    message=None\n",
    "    def __init__(self):\n",
    "        super().__init__(f'Status code : {self.statusCode} amd message is : {self.message}')\n",
    "\n",
    "class NotFound(HttpException):\n",
    "    statusCode=404\n",
    "    message='Resource not found'\n",
    "class ServerError(HttpException):\n",
    "    statusCode=500\n",
    "    message='The server messed !!'\n",
    "\n",
    "\n",
    "def raiseNotFoundError():\n",
    "    raise NotFound()\n",
    "raiseNotFoundError()\n",
    "        "
   ]
  },
  {
   "cell_type": "code",
   "execution_count": null,
   "id": "c7c5f803-b805-4b17-984d-1b9ad90b3f0c",
   "metadata": {},
   "outputs": [],
   "source": []
  }
 ],
 "metadata": {
  "kernelspec": {
   "display_name": "Python 3 (ipykernel)",
   "language": "python",
   "name": "python3"
  },
  "language_info": {
   "codemirror_mode": {
    "name": "ipython",
    "version": 3
   },
   "file_extension": ".py",
   "mimetype": "text/x-python",
   "name": "python",
   "nbconvert_exporter": "python",
   "pygments_lexer": "ipython3",
   "version": "3.10.0"
  }
 },
 "nbformat": 4,
 "nbformat_minor": 5
}
