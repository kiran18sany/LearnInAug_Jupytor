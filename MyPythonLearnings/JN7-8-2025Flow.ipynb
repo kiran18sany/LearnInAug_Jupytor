{
 "cells": [
  {
   "cell_type": "code",
   "execution_count": 4,
   "id": "8faf4224-11f7-46fe-a695-0fb28ee51052",
   "metadata": {},
   "outputs": [],
   "source": [
    "from datetime import datetime"
   ]
  },
  {
   "cell_type": "code",
   "execution_count": 5,
   "id": "f47f4a97-b845-4053-9ac6-38b464f959d6",
   "metadata": {},
   "outputs": [
    {
     "data": {
      "text/plain": [
       "datetime.datetime(2025, 8, 7, 13, 48, 25, 851858)"
      ]
     },
     "execution_count": 5,
     "metadata": {},
     "output_type": "execute_result"
    }
   ],
   "source": [
    "datetime.now()"
   ]
  },
  {
   "cell_type": "code",
   "execution_count": 6,
   "id": "536c6813-a2f7-4caf-bebd-d76ef11abf85",
   "metadata": {},
   "outputs": [
    {
     "data": {
      "text/plain": [
       "34"
      ]
     },
     "execution_count": 6,
     "metadata": {},
     "output_type": "execute_result"
    }
   ],
   "source": [
    "datetime.now().second"
   ]
  },
  {
   "cell_type": "code",
   "execution_count": 7,
   "id": "70adeba0-2a33-44c6-b76b-69278c460ac5",
   "metadata": {},
   "outputs": [
    {
     "data": {
      "text/plain": [
       "32"
      ]
     },
     "execution_count": 7,
     "metadata": {},
     "output_type": "execute_result"
    }
   ],
   "source": [
    "( datetime.now().second + 2 ) % 60"
   ]
  },
  {
   "cell_type": "code",
   "execution_count": 9,
   "id": "2d79317e-a460-432b-8af0-c1da433db7e4",
   "metadata": {},
   "outputs": [
    {
     "name": "stdout",
     "output_type": "stream",
     "text": [
      "2991744\n",
      "We are at 40 seconds!\n"
     ]
    }
   ],
   "source": [
    "wait_until = ( datetime.now().second + 2 ) % 60\n",
    "a=0\n",
    "while datetime.now().second !=wait_until:\n",
    "   a +=1\n",
    "print(a)\n",
    "print(f'We are at {wait_until} seconds!')"
   ]
  },
  {
   "cell_type": "markdown",
   "id": "4681e1f6-2e9e-4144-8cb1-3e1c8e7bc381",
   "metadata": {},
   "source": [
    "## Pass"
   ]
  },
  {
   "cell_type": "code",
   "execution_count": 10,
   "id": "4ce8db40-ef56-453f-a23d-5ea82ad77e25",
   "metadata": {},
   "outputs": [
    {
     "name": "stdout",
     "output_type": "stream",
     "text": [
      "We are at 43 seconds!\n"
     ]
    }
   ],
   "source": [
    "wait_until = ( datetime.now().second + 2 ) % 60\n",
    "\n",
    "while datetime.now().second !=wait_until:\n",
    "   pass\n",
    "\n",
    "print(f'We are at {wait_until} seconds!')"
   ]
  },
  {
   "cell_type": "markdown",
   "id": "621ffee0-041e-4e40-8c6f-70f907d204e5",
   "metadata": {},
   "source": [
    "## Break"
   ]
  },
  {
   "cell_type": "code",
   "execution_count": null,
   "id": "20c9c5c7-0ee5-450a-b364-2ec80bdd5dfe",
   "metadata": {},
   "outputs": [],
   "source": [
    "wait_until = ( datetime.now().second + 2 ) % 60\n",
    "\n",
    "while True :\n",
    "  if datetime.now().second ==wait_until:\n",
    "       print(f'We are at {wait_until} seconds!')\n",
    "       break \n"
   ]
  },
  {
   "cell_type": "markdown",
   "id": "0544b48c-e7eb-4b27-99ac-df411efe9201",
   "metadata": {},
   "source": [
    "## Continue"
   ]
  },
  {
   "cell_type": "code",
   "execution_count": 11,
   "id": "72a8920d-be73-466f-b39e-814246aafca5",
   "metadata": {},
   "outputs": [
    {
     "name": "stdout",
     "output_type": "stream",
     "text": [
      "We are at 25 seconds!\n"
     ]
    }
   ],
   "source": [
    "  wait_until = ( datetime.now().second + 2 ) % 60\n",
    "\n",
    "while datetime.now().second !=wait_until:\n",
    "   continue\n",
    "   print('Still Waiting') \n",
    "\n",
    "print(f'We are at {wait_until} seconds!')"
   ]
  },
  {
   "cell_type": "code",
   "execution_count": 14,
   "id": "1e0fb937-8081-4ff4-955a-c05a73e9fa7f",
   "metadata": {},
   "outputs": [
    {
     "name": "stdout",
     "output_type": "stream",
     "text": [
      "We are at 42 seconds!\n"
     ]
    }
   ],
   "source": [
    "wait_until = ( datetime.now().second + 2 ) % 60\n",
    "\n",
    "while True :\n",
    "  if datetime.now().second <wait_until:\n",
    "      continue\n",
    "  break   \n",
    "print(f'We are at {wait_until} seconds!')\n",
    "  "
   ]
  },
  {
   "cell_type": "markdown",
   "id": "701eed23-aa44-4ad8-887d-0c4e9a077e84",
   "metadata": {},
   "source": [
    "## For"
   ]
  },
  {
   "cell_type": "code",
   "execution_count": 15,
   "id": "699c551b-d6f7-42e8-bb48-8db0aa6f1c7f",
   "metadata": {},
   "outputs": [
    {
     "name": "stdout",
     "output_type": "stream",
     "text": [
      "1\n",
      "2\n",
      "3\n",
      "4\n"
     ]
    }
   ],
   "source": [
    "myList = [1,2,3,4]\n",
    "for item in myList:\n",
    "    print (item)"
   ]
  },
  {
   "cell_type": "markdown",
   "id": "ecce2b4d-e340-4e36-8899-a7393032f5c6",
   "metadata": {},
   "source": [
    "## Pass"
   ]
  },
  {
   "cell_type": "code",
   "execution_count": 16,
   "id": "3ead7fb4-3c78-43d8-b890-31263454b823",
   "metadata": {},
   "outputs": [],
   "source": [
    "animalLookup={\n",
    "     'a':['ant','antelope'],\n",
    "     'b':['bear'],\n",
    "     'c':['cat'],\n",
    "     'd':['dog'],\n",
    "}\n",
    "for letter,animals in animalLookup.items():\n",
    "    pass\n",
    "    "
   ]
  },
  {
   "cell_type": "markdown",
   "id": "630d4272-3126-4bc4-939f-76b17c64a737",
   "metadata": {},
   "source": [
    "## Continue"
   ]
  },
  {
   "cell_type": "code",
   "execution_count": 17,
   "id": "8c667e66-b626-4ca7-8d3e-c5b986b740e6",
   "metadata": {},
   "outputs": [
    {
     "name": "stdout",
     "output_type": "stream",
     "text": [
      "Only 1 animal ! ['bear']\n",
      "Only 1 animal ! ['cat']\n",
      "Only 1 animal ! ['dog']\n"
     ]
    }
   ],
   "source": [
    "for  letter,animals in animalLookup.items():\n",
    "    if len(animals)>1:\n",
    "        continue\n",
    "    print(f'Only 1 animal ! {animals}')    "
   ]
  },
  {
   "cell_type": "code",
   "execution_count": 18,
   "id": "1e7b92b7-15bd-4c1d-b136-d57230f82ec3",
   "metadata": {},
   "outputs": [
    {
     "name": "stdout",
     "output_type": "stream",
     "text": [
      "Found 2 animals : ['ant', 'antelope']\n"
     ]
    }
   ],
   "source": [
    "for  letter,animals in animalLookup.items():\n",
    "    if len(animals)>1:        \n",
    "        print(f'Found {len(animals)} animals : {animals}')  \n",
    "        break\n",
    "    "
   ]
  },
  {
   "cell_type": "markdown",
   "id": "7812920a-1568-46a4-a0d2-536a5cbca1b5",
   "metadata": {},
   "source": [
    "## For/Else"
   ]
  },
  {
   "cell_type": "code",
   "execution_count": 19,
   "id": "e4d4c5ba-ee11-4810-89ca-963d11ae9210",
   "metadata": {},
   "outputs": [
    {
     "name": "stdout",
     "output_type": "stream",
     "text": [
      "2 is prime\n",
      "3 is prime\n",
      "5 is prime\n",
      "7 is prime\n",
      "11 is prime\n",
      "13 is prime\n",
      "17 is prime\n",
      "19 is prime\n",
      "23 is prime\n",
      "29 is prime\n"
     ]
    }
   ],
   "source": [
    "for number in range(2,30):\n",
    "    for factor in range(2,int(number ** 0.5) + 1) :\n",
    "        if number % factor == 0:\n",
    "            break\n",
    "    else: \n",
    "        print (f'{number} is prime')"
   ]
  },
  {
   "cell_type": "code",
   "execution_count": 22,
   "id": "aed22b2d-3ae6-490b-a748-61b1a907bf56",
   "metadata": {},
   "outputs": [
    {
     "name": "stdout",
     "output_type": "stream",
     "text": [
      "2 is prime\n",
      "3 is prime\n",
      "5 is prime\n",
      "7 is prime\n",
      "11 is prime\n",
      "13 is prime\n",
      "17 is prime\n",
      "19 is prime\n",
      "23 is prime\n",
      "29 is prime\n"
     ]
    }
   ],
   "source": [
    "for number in range(2,30):\n",
    "    found_factors =False\n",
    "    for factor in range(2,int(number ** 0.5) + 1) :\n",
    "          if number % factor == 0:\n",
    "                 found_factors =True\n",
    "                 break\n",
    "    if not found_factors:\n",
    "           print (f'{number} is prime')\n",
    "    "
   ]
  },
  {
   "cell_type": "code",
   "execution_count": null,
   "id": "519ab5b1-4c3f-4aa6-abf1-8aaa6de619ec",
   "metadata": {},
   "outputs": [],
   "source": []
  }
 ],
 "metadata": {
  "kernelspec": {
   "display_name": "Python 3 (ipykernel)",
   "language": "python",
   "name": "python3"
  },
  "language_info": {
   "codemirror_mode": {
    "name": "ipython",
    "version": 3
   },
   "file_extension": ".py",
   "mimetype": "text/x-python",
   "name": "python",
   "nbconvert_exporter": "python",
   "pygments_lexer": "ipython3",
   "version": "3.10.0"
  }
 },
 "nbformat": 4,
 "nbformat_minor": 5
}
