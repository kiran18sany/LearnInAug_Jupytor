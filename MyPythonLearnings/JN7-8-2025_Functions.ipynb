{
 "cells": [
  {
   "cell_type": "code",
   "execution_count": 1,
   "id": "10633685-533a-4cb6-8c54-7bb63849a450",
   "metadata": {},
   "outputs": [
    {
     "data": {
      "text/plain": [
       "5"
      ]
     },
     "execution_count": 1,
     "metadata": {},
     "output_type": "execute_result"
    }
   ],
   "source": [
    "def performOperation(num1,num2,operation):\n",
    "    if operation =='sum':\n",
    "        return num1 + num2\n",
    "    if operation =='multiply':\n",
    "        return num1 * num2 \n",
    "performOperation(2,3,'sum')\n",
    "         "
   ]
  },
  {
   "cell_type": "markdown",
   "id": "a1c67497-a60f-46fa-8b39-ad67b6b3e7b8",
   "metadata": {},
   "source": [
    "## Named Parameters"
   ]
  },
  {
   "cell_type": "code",
   "execution_count": 2,
   "id": "1fc73494-1ab3-4c64-9424-d558aa8891d9",
   "metadata": {},
   "outputs": [
    {
     "data": {
      "text/plain": [
       "5"
      ]
     },
     "execution_count": 2,
     "metadata": {},
     "output_type": "execute_result"
    }
   ],
   "source": [
    "def performOperation(num1,num2,operation='sum'):\n",
    "    if operation =='sum':\n",
    "        return num1 + num2\n",
    "    if operation =='multiply':\n",
    "        return num1 * num2 \n",
    "performOperation(2,3)"
   ]
  },
  {
   "cell_type": "code",
   "execution_count": 3,
   "id": "32c5cead-d578-4acf-b619-abd23200b7d2",
   "metadata": {},
   "outputs": [
    {
     "data": {
      "text/plain": [
       "6"
      ]
     },
     "execution_count": 3,
     "metadata": {},
     "output_type": "execute_result"
    }
   ],
   "source": [
    "def performOperation(num1,num2,operation='sum'):\n",
    "    if operation =='sum':\n",
    "        return num1 + num2\n",
    "    if operation =='multiply':\n",
    "        return num1 * num2 \n",
    "performOperation(2,3,operation='multiply')"
   ]
  },
  {
   "cell_type": "code",
   "execution_count": 7,
   "id": "255dd01c-d3e3-4d7d-9ae5-94d6e6270cd5",
   "metadata": {},
   "outputs": [
    {
     "name": "stdout",
     "output_type": "stream",
     "text": [
      "Praise the Lord\n"
     ]
    },
    {
     "data": {
      "text/plain": [
       "6"
      ]
     },
     "execution_count": 7,
     "metadata": {},
     "output_type": "execute_result"
    }
   ],
   "source": [
    "def performOperation(num1,num2,operation='sum',message='Default'):\n",
    "    print(message)\n",
    "    if operation =='sum':\n",
    "        return num1 + num2\n",
    "    if operation =='multiply':\n",
    "        return num1 * num2 \n",
    "performOperation(2,3, message='Praise the Lord', operation='multiply')"
   ]
  },
  {
   "cell_type": "markdown",
   "id": "9c68ba30-857a-44fb-ac45-09c325caeff0",
   "metadata": {},
   "source": [
    "## *args"
   ]
  },
  {
   "cell_type": "code",
   "execution_count": 10,
   "id": "5853b2f6-e356-4a97-92f7-9302c20cc728",
   "metadata": {},
   "outputs": [
    {
     "ename": "TypeError",
     "evalue": "performOperation() takes 1 positional argument but 3 were given",
     "output_type": "error",
     "traceback": [
      "\u001b[1;31m---------------------------------------------------------------------------\u001b[0m",
      "\u001b[1;31mTypeError\u001b[0m                                 Traceback (most recent call last)",
      "Cell \u001b[1;32mIn[10], line 3\u001b[0m\n\u001b[0;32m      1\u001b[0m \u001b[38;5;28;01mdef\u001b[39;00m\u001b[38;5;250m \u001b[39m\u001b[38;5;21mperformOperation\u001b[39m(args):\n\u001b[0;32m      2\u001b[0m    \u001b[38;5;28mprint\u001b[39m (args)\n\u001b[1;32m----> 3\u001b[0m \u001b[43mperformOperation\u001b[49m\u001b[43m(\u001b[49m\u001b[38;5;241;43m1\u001b[39;49m\u001b[43m,\u001b[49m\u001b[38;5;241;43m2\u001b[39;49m\u001b[43m,\u001b[49m\u001b[38;5;241;43m3\u001b[39;49m\u001b[43m)\u001b[49m\n",
      "\u001b[1;31mTypeError\u001b[0m: performOperation() takes 1 positional argument but 3 were given"
     ]
    }
   ],
   "source": [
    "def performOperation(args):\n",
    "   print (args)\n",
    "performOperation(1,2,3)"
   ]
  },
  {
   "cell_type": "code",
   "execution_count": 11,
   "id": "3fa49bc6-f30b-4aa7-8e08-01940feeb096",
   "metadata": {},
   "outputs": [
    {
     "name": "stdout",
     "output_type": "stream",
     "text": [
      "(1, 2, 3)\n"
     ]
    }
   ],
   "source": [
    "def performOperation(*args):\n",
    "   print (args)\n",
    "performOperation(1,2,3)"
   ]
  },
  {
   "cell_type": "code",
   "execution_count": 12,
   "id": "44f422f8-9ac3-4ca1-80cd-1e47246e3e99",
   "metadata": {},
   "outputs": [
    {
     "ename": "TypeError",
     "evalue": "performOperation() got an unexpected keyword argument 'operation'",
     "output_type": "error",
     "traceback": [
      "\u001b[1;31m---------------------------------------------------------------------------\u001b[0m",
      "\u001b[1;31mTypeError\u001b[0m                                 Traceback (most recent call last)",
      "Cell \u001b[1;32mIn[12], line 3\u001b[0m\n\u001b[0;32m      1\u001b[0m \u001b[38;5;28;01mdef\u001b[39;00m\u001b[38;5;250m \u001b[39m\u001b[38;5;21mperformOperation\u001b[39m(\u001b[38;5;241m*\u001b[39margs):\n\u001b[0;32m      2\u001b[0m    \u001b[38;5;28mprint\u001b[39m (args)\n\u001b[1;32m----> 3\u001b[0m \u001b[43mperformOperation\u001b[49m\u001b[43m(\u001b[49m\u001b[38;5;241;43m1\u001b[39;49m\u001b[43m,\u001b[49m\u001b[38;5;241;43m2\u001b[39;49m\u001b[43m,\u001b[49m\u001b[38;5;241;43m3\u001b[39;49m\u001b[43m,\u001b[49m\u001b[43moperation\u001b[49m\u001b[38;5;241;43m=\u001b[39;49m\u001b[38;5;124;43m'\u001b[39;49m\u001b[38;5;124;43msum\u001b[39;49m\u001b[38;5;124;43m'\u001b[39;49m\u001b[43m)\u001b[49m\n",
      "\u001b[1;31mTypeError\u001b[0m: performOperation() got an unexpected keyword argument 'operation'"
     ]
    }
   ],
   "source": [
    "def performOperation(*args):\n",
    "   print (args)\n",
    "performOperation(1,2,3,operation='sum')"
   ]
  },
  {
   "cell_type": "markdown",
   "id": "d806987f-ed26-4a90-b182-847245333d5d",
   "metadata": {},
   "source": [
    "## kwargs"
   ]
  },
  {
   "cell_type": "code",
   "execution_count": 13,
   "id": "5ebe1ba4-cf84-4910-a2a2-4f6a3fa47ad3",
   "metadata": {},
   "outputs": [
    {
     "name": "stdout",
     "output_type": "stream",
     "text": [
      "(1, 2, 3)\n",
      "{'operation': 'sum'}\n"
     ]
    }
   ],
   "source": [
    "def performOperation(*args,**kwargs):\n",
    "    print (args)\n",
    "    print (kwargs) \n",
    "performOperation(1,2,3,operation='sum')"
   ]
  },
  {
   "cell_type": "code",
   "execution_count": 15,
   "id": "3ccedaf4-c97c-4048-94e1-b6354562c55b",
   "metadata": {},
   "outputs": [
    {
     "data": {
      "text/plain": [
       "5"
      ]
     },
     "execution_count": 15,
     "metadata": {},
     "output_type": "execute_result"
    }
   ],
   "source": [
    "def performOperation(*args,operation='sum'):\n",
    "    if operation =='sum':\n",
    "        return sum(args)   \n",
    "performOperation(2,3,operation='sum')"
   ]
  },
  {
   "cell_type": "code",
   "execution_count": 7,
   "id": "20cf7bed-05fe-4cc0-839a-7e8039ad7382",
   "metadata": {},
   "outputs": [
    {
     "data": {
      "text/plain": [
       "27"
      ]
     },
     "execution_count": 7,
     "metadata": {},
     "output_type": "execute_result"
    }
   ],
   "source": [
    "def performOperation(*args,operation='sum'):\n",
    "    if operation =='sum':\n",
    "        return sum(args) \n",
    "    if operation=='multiply':\n",
    "        return math.prod(args)\n",
    "performOperation(1,2,3,6,7,8,operation='sum')"
   ]
  },
  {
   "cell_type": "code",
   "execution_count": 9,
   "id": "bc5a580f-5c9a-4a5d-a06c-1089aed9af97",
   "metadata": {},
   "outputs": [
    {
     "data": {
      "text/plain": [
       "100"
      ]
     },
     "execution_count": 9,
     "metadata": {},
     "output_type": "execute_result"
    }
   ],
   "source": [
    "import math\n",
    "def performOperation(*args,operation='sum'):\n",
    "    if operation =='sum':\n",
    "        return sum(args) \n",
    "    if operation=='multiply':\n",
    "        return math.prod(args)\n",
    "performOperation(1,2,10,5,operation='multiply')"
   ]
  },
  {
   "cell_type": "markdown",
   "id": "9c6c1dd1-8e10-48ee-a60d-6cd71941d605",
   "metadata": {},
   "source": [
    "## locals()"
   ]
  },
  {
   "cell_type": "code",
   "execution_count": 10,
   "id": "a1414b21-1a42-462d-a3b4-63870880db39",
   "metadata": {},
   "outputs": [
    {
     "name": "stdout",
     "output_type": "stream",
     "text": [
      "{'num1': 1, 'num2': 2, 'operation': 'multiply'}\n"
     ]
    }
   ],
   "source": [
    "def performOperation(num1,num2,operation='sum'):\n",
    "    print(locals())\n",
    "performOperation(1,2,operation='multiply')    \n"
   ]
  },
  {
   "cell_type": "code",
   "execution_count": 11,
   "id": "955b3f4c-48f1-40b6-9c2f-66cc88892ad1",
   "metadata": {},
   "outputs": [
    {
     "data": {
      "text/plain": [
       "{'__name__': '__main__',\n",
       " '__doc__': 'Automatically created module for IPython interactive environment',\n",
       " '__package__': None,\n",
       " '__loader__': None,\n",
       " '__spec__': None,\n",
       " '__builtin__': <module 'builtins' (built-in)>,\n",
       " '__builtins__': <module 'builtins' (built-in)>,\n",
       " '_ih': ['',\n",
       "  \"def performOperation(*args,operation='sum'):\\n    if operation =='sum':\\n        return sum(args) \\n     if operation='multiply':\\n        return math.prod(args)\\nperformOperation(2,3,operation='sum')\",\n",
       "  \"def performOperation(*args,operation='sum'):\\n    if operation =='sum':\\n        return sum(args) \\n    if operation='multiply':\\n        return math.prod(args)\\nperformOperation(2,3,operation='sum')\",\n",
       "  \"def performOperation(*args,operation='sum'):\\n    if operation =='sum':\\n        return sum(args) \\n    if operation=='multiply':\\n        return math.prod(args)\\nperformOperation(2,3,operation='sum')\",\n",
       "  \"def performOperation(*args,operation='sum'):\\n    if operation =='sum':\\n        return sum(args) \\n    if operation=='multiply':\\n        return math.prod(args)\\nperformOperation(2,3,3,6,7,8,operation='sum')\",\n",
       "  \"def performOperation(*args,operation='sum'):\\n    if operation =='sum':\\n        return sum(args) \\n    if operation=='multiply':\\n        return math.prod(args)\\nperformOperation(2,3,6,7,8,operation='sum')\",\n",
       "  \"def performOperation(*args,operation='sum'):\\n    if operation =='sum':\\n        return sum(args) \\n    if operation=='multiply':\\n        return math.prod(args)\\nperformOperation(1,2,3,6,7,8,operation='sum')\",\n",
       "  \"def performOperation(*args,operation='sum'):\\n    if operation =='sum':\\n        return sum(args) \\n    if operation=='multiply':\\n        return math.prod(args)\\nperformOperation(1,2,10,5,operation='multiply')\",\n",
       "  \"import math\\ndef performOperation(*args,operation='sum'):\\n    if operation =='sum':\\n        return sum(args) \\n    if operation=='multiply':\\n        return math.prod(args)\\nperformOperation(1,2,10,5,operation='multiply')\",\n",
       "  \"def performOperation(num1,num2,operation='sum'):\\n    print(locals())\\nperformOperation(1,2,operation='multiply')    \",\n",
       "  'globals()'],\n",
       " '_oh': {4: 5, 5: 29, 6: 26, 7: 27, 9: 100},\n",
       " '_dh': [WindowsPath('C:/2025/PYTHONTUTORIAL/LearnPythonAug/MyPythonLearnings')],\n",
       " 'In': ['',\n",
       "  \"def performOperation(*args,operation='sum'):\\n    if operation =='sum':\\n        return sum(args) \\n     if operation='multiply':\\n        return math.prod(args)\\nperformOperation(2,3,operation='sum')\",\n",
       "  \"def performOperation(*args,operation='sum'):\\n    if operation =='sum':\\n        return sum(args) \\n    if operation='multiply':\\n        return math.prod(args)\\nperformOperation(2,3,operation='sum')\",\n",
       "  \"def performOperation(*args,operation='sum'):\\n    if operation =='sum':\\n        return sum(args) \\n    if operation=='multiply':\\n        return math.prod(args)\\nperformOperation(2,3,operation='sum')\",\n",
       "  \"def performOperation(*args,operation='sum'):\\n    if operation =='sum':\\n        return sum(args) \\n    if operation=='multiply':\\n        return math.prod(args)\\nperformOperation(2,3,3,6,7,8,operation='sum')\",\n",
       "  \"def performOperation(*args,operation='sum'):\\n    if operation =='sum':\\n        return sum(args) \\n    if operation=='multiply':\\n        return math.prod(args)\\nperformOperation(2,3,6,7,8,operation='sum')\",\n",
       "  \"def performOperation(*args,operation='sum'):\\n    if operation =='sum':\\n        return sum(args) \\n    if operation=='multiply':\\n        return math.prod(args)\\nperformOperation(1,2,3,6,7,8,operation='sum')\",\n",
       "  \"def performOperation(*args,operation='sum'):\\n    if operation =='sum':\\n        return sum(args) \\n    if operation=='multiply':\\n        return math.prod(args)\\nperformOperation(1,2,10,5,operation='multiply')\",\n",
       "  \"import math\\ndef performOperation(*args,operation='sum'):\\n    if operation =='sum':\\n        return sum(args) \\n    if operation=='multiply':\\n        return math.prod(args)\\nperformOperation(1,2,10,5,operation='multiply')\",\n",
       "  \"def performOperation(num1,num2,operation='sum'):\\n    print(locals())\\nperformOperation(1,2,operation='multiply')    \",\n",
       "  'globals()'],\n",
       " 'Out': {4: 5, 5: 29, 6: 26, 7: 27, 9: 100},\n",
       " 'get_ipython': <bound method InteractiveShell.get_ipython of <ipykernel.zmqshell.ZMQInteractiveShell object at 0x00000171E3A40A30>>,\n",
       " 'exit': <IPython.core.autocall.ZMQExitAutocall at 0x171e3a414b0>,\n",
       " 'quit': <IPython.core.autocall.ZMQExitAutocall at 0x171e3a414b0>,\n",
       " 'open': <function io.open(file, mode='r', buffering=-1, encoding=None, errors=None, newline=None, closefd=True, opener=None)>,\n",
       " '_': 100,\n",
       " '__': 27,\n",
       " '___': 26,\n",
       " '__session__': 'C:\\\\2025\\\\PYTHONTUTORIAL\\\\LearnPythonAug\\\\MyPythonLearnings\\\\JN7-8-2025_Functions.ipynb',\n",
       " '_i': \"def performOperation(num1,num2,operation='sum'):\\n    print(locals())\\nperformOperation(1,2,operation='multiply')    \",\n",
       " '_ii': \"import math\\ndef performOperation(*args,operation='sum'):\\n    if operation =='sum':\\n        return sum(args) \\n    if operation=='multiply':\\n        return math.prod(args)\\nperformOperation(1,2,10,5,operation='multiply')\",\n",
       " '_iii': \"def performOperation(*args,operation='sum'):\\n    if operation =='sum':\\n        return sum(args) \\n    if operation=='multiply':\\n        return math.prod(args)\\nperformOperation(1,2,10,5,operation='multiply')\",\n",
       " '_i1': \"def performOperation(*args,operation='sum'):\\n    if operation =='sum':\\n        return sum(args) \\n     if operation='multiply':\\n        return math.prod(args)\\nperformOperation(2,3,operation='sum')\",\n",
       " '_i3': \"def performOperation(*args,operation='sum'):\\n    if operation =='sum':\\n        return sum(args) \\n    if operation='multiply':\\n        return math.prod(args)\\nperformOperation(2,3,operation='sum')\",\n",
       " '_i4': \"def performOperation(*args,operation='sum'):\\n    if operation =='sum':\\n        return sum(args) \\n    if operation=='multiply':\\n        return math.prod(args)\\nperformOperation(2,3,operation='sum')\",\n",
       " 'performOperation': <function __main__.performOperation(num1, num2, operation='sum')>,\n",
       " '_4': 5,\n",
       " '_i5': \"def performOperation(*args,operation='sum'):\\n    if operation =='sum':\\n        return sum(args) \\n    if operation=='multiply':\\n        return math.prod(args)\\nperformOperation(2,3,3,6,7,8,operation='sum')\",\n",
       " '_5': 29,\n",
       " '_i6': \"def performOperation(*args,operation='sum'):\\n    if operation =='sum':\\n        return sum(args) \\n    if operation=='multiply':\\n        return math.prod(args)\\nperformOperation(2,3,6,7,8,operation='sum')\",\n",
       " '_6': 26,\n",
       " '_i7': \"def performOperation(*args,operation='sum'):\\n    if operation =='sum':\\n        return sum(args) \\n    if operation=='multiply':\\n        return math.prod(args)\\nperformOperation(1,2,3,6,7,8,operation='sum')\",\n",
       " '_7': 27,\n",
       " '_i8': \"def performOperation(*args,operation='sum'):\\n    if operation =='sum':\\n        return sum(args) \\n    if operation=='multiply':\\n        return math.prod(args)\\nperformOperation(1,2,10,5,operation='multiply')\",\n",
       " '_i9': \"import math\\ndef performOperation(*args,operation='sum'):\\n    if operation =='sum':\\n        return sum(args) \\n    if operation=='multiply':\\n        return math.prod(args)\\nperformOperation(1,2,10,5,operation='multiply')\",\n",
       " 'math': <module 'math' (built-in)>,\n",
       " '_9': 100,\n",
       " '_i10': \"def performOperation(num1,num2,operation='sum'):\\n    print(locals())\\nperformOperation(1,2,operation='multiply')    \",\n",
       " '_i11': 'globals()'}"
      ]
     },
     "execution_count": 11,
     "metadata": {},
     "output_type": "execute_result"
    }
   ],
   "source": [
    "globals()"
   ]
  },
  {
   "cell_type": "code",
   "execution_count": 12,
   "id": "76f56c3f-34ef-473f-a862-d09f686a8b9a",
   "metadata": {},
   "outputs": [
    {
     "data": {
      "text/plain": [
       "{'__name__': '__main__',\n",
       " '__doc__': 'Automatically created module for IPython interactive environment',\n",
       " '__package__': None,\n",
       " '__loader__': None,\n",
       " '__spec__': None,\n",
       " '__builtin__': <module 'builtins' (built-in)>,\n",
       " '__builtins__': <module 'builtins' (built-in)>,\n",
       " '_ih': ['',\n",
       "  \"def performOperation(*args,operation='sum'):\\n    if operation =='sum':\\n        return sum(args) \\n     if operation='multiply':\\n        return math.prod(args)\\nperformOperation(2,3,operation='sum')\",\n",
       "  \"def performOperation(*args,operation='sum'):\\n    if operation =='sum':\\n        return sum(args) \\n    if operation='multiply':\\n        return math.prod(args)\\nperformOperation(2,3,operation='sum')\",\n",
       "  \"def performOperation(*args,operation='sum'):\\n    if operation =='sum':\\n        return sum(args) \\n    if operation=='multiply':\\n        return math.prod(args)\\nperformOperation(2,3,operation='sum')\",\n",
       "  \"def performOperation(*args,operation='sum'):\\n    if operation =='sum':\\n        return sum(args) \\n    if operation=='multiply':\\n        return math.prod(args)\\nperformOperation(2,3,3,6,7,8,operation='sum')\",\n",
       "  \"def performOperation(*args,operation='sum'):\\n    if operation =='sum':\\n        return sum(args) \\n    if operation=='multiply':\\n        return math.prod(args)\\nperformOperation(2,3,6,7,8,operation='sum')\",\n",
       "  \"def performOperation(*args,operation='sum'):\\n    if operation =='sum':\\n        return sum(args) \\n    if operation=='multiply':\\n        return math.prod(args)\\nperformOperation(1,2,3,6,7,8,operation='sum')\",\n",
       "  \"def performOperation(*args,operation='sum'):\\n    if operation =='sum':\\n        return sum(args) \\n    if operation=='multiply':\\n        return math.prod(args)\\nperformOperation(1,2,10,5,operation='multiply')\",\n",
       "  \"import math\\ndef performOperation(*args,operation='sum'):\\n    if operation =='sum':\\n        return sum(args) \\n    if operation=='multiply':\\n        return math.prod(args)\\nperformOperation(1,2,10,5,operation='multiply')\",\n",
       "  \"def performOperation(num1,num2,operation='sum'):\\n    print(locals())\\nperformOperation(1,2,operation='multiply')    \",\n",
       "  'globals()',\n",
       "  'locals()'],\n",
       " '_oh': {4: 5, 5: 29, 6: 26, 7: 27, 9: 100, 11: {...}},\n",
       " '_dh': [WindowsPath('C:/2025/PYTHONTUTORIAL/LearnPythonAug/MyPythonLearnings')],\n",
       " 'In': ['',\n",
       "  \"def performOperation(*args,operation='sum'):\\n    if operation =='sum':\\n        return sum(args) \\n     if operation='multiply':\\n        return math.prod(args)\\nperformOperation(2,3,operation='sum')\",\n",
       "  \"def performOperation(*args,operation='sum'):\\n    if operation =='sum':\\n        return sum(args) \\n    if operation='multiply':\\n        return math.prod(args)\\nperformOperation(2,3,operation='sum')\",\n",
       "  \"def performOperation(*args,operation='sum'):\\n    if operation =='sum':\\n        return sum(args) \\n    if operation=='multiply':\\n        return math.prod(args)\\nperformOperation(2,3,operation='sum')\",\n",
       "  \"def performOperation(*args,operation='sum'):\\n    if operation =='sum':\\n        return sum(args) \\n    if operation=='multiply':\\n        return math.prod(args)\\nperformOperation(2,3,3,6,7,8,operation='sum')\",\n",
       "  \"def performOperation(*args,operation='sum'):\\n    if operation =='sum':\\n        return sum(args) \\n    if operation=='multiply':\\n        return math.prod(args)\\nperformOperation(2,3,6,7,8,operation='sum')\",\n",
       "  \"def performOperation(*args,operation='sum'):\\n    if operation =='sum':\\n        return sum(args) \\n    if operation=='multiply':\\n        return math.prod(args)\\nperformOperation(1,2,3,6,7,8,operation='sum')\",\n",
       "  \"def performOperation(*args,operation='sum'):\\n    if operation =='sum':\\n        return sum(args) \\n    if operation=='multiply':\\n        return math.prod(args)\\nperformOperation(1,2,10,5,operation='multiply')\",\n",
       "  \"import math\\ndef performOperation(*args,operation='sum'):\\n    if operation =='sum':\\n        return sum(args) \\n    if operation=='multiply':\\n        return math.prod(args)\\nperformOperation(1,2,10,5,operation='multiply')\",\n",
       "  \"def performOperation(num1,num2,operation='sum'):\\n    print(locals())\\nperformOperation(1,2,operation='multiply')    \",\n",
       "  'globals()',\n",
       "  'locals()'],\n",
       " 'Out': {4: 5, 5: 29, 6: 26, 7: 27, 9: 100, 11: {...}},\n",
       " 'get_ipython': <bound method InteractiveShell.get_ipython of <ipykernel.zmqshell.ZMQInteractiveShell object at 0x00000171E3A40A30>>,\n",
       " 'exit': <IPython.core.autocall.ZMQExitAutocall at 0x171e3a414b0>,\n",
       " 'quit': <IPython.core.autocall.ZMQExitAutocall at 0x171e3a414b0>,\n",
       " 'open': <function io.open(file, mode='r', buffering=-1, encoding=None, errors=None, newline=None, closefd=True, opener=None)>,\n",
       " '_': {...},\n",
       " '__': 100,\n",
       " '___': 27,\n",
       " '__session__': 'C:\\\\2025\\\\PYTHONTUTORIAL\\\\LearnPythonAug\\\\MyPythonLearnings\\\\JN7-8-2025_Functions.ipynb',\n",
       " '_i': 'globals()',\n",
       " '_ii': \"def performOperation(num1,num2,operation='sum'):\\n    print(locals())\\nperformOperation(1,2,operation='multiply')    \",\n",
       " '_iii': \"import math\\ndef performOperation(*args,operation='sum'):\\n    if operation =='sum':\\n        return sum(args) \\n    if operation=='multiply':\\n        return math.prod(args)\\nperformOperation(1,2,10,5,operation='multiply')\",\n",
       " '_i1': \"def performOperation(*args,operation='sum'):\\n    if operation =='sum':\\n        return sum(args) \\n     if operation='multiply':\\n        return math.prod(args)\\nperformOperation(2,3,operation='sum')\",\n",
       " '_i3': \"def performOperation(*args,operation='sum'):\\n    if operation =='sum':\\n        return sum(args) \\n    if operation='multiply':\\n        return math.prod(args)\\nperformOperation(2,3,operation='sum')\",\n",
       " '_i4': \"def performOperation(*args,operation='sum'):\\n    if operation =='sum':\\n        return sum(args) \\n    if operation=='multiply':\\n        return math.prod(args)\\nperformOperation(2,3,operation='sum')\",\n",
       " 'performOperation': <function __main__.performOperation(num1, num2, operation='sum')>,\n",
       " '_4': 5,\n",
       " '_i5': \"def performOperation(*args,operation='sum'):\\n    if operation =='sum':\\n        return sum(args) \\n    if operation=='multiply':\\n        return math.prod(args)\\nperformOperation(2,3,3,6,7,8,operation='sum')\",\n",
       " '_5': 29,\n",
       " '_i6': \"def performOperation(*args,operation='sum'):\\n    if operation =='sum':\\n        return sum(args) \\n    if operation=='multiply':\\n        return math.prod(args)\\nperformOperation(2,3,6,7,8,operation='sum')\",\n",
       " '_6': 26,\n",
       " '_i7': \"def performOperation(*args,operation='sum'):\\n    if operation =='sum':\\n        return sum(args) \\n    if operation=='multiply':\\n        return math.prod(args)\\nperformOperation(1,2,3,6,7,8,operation='sum')\",\n",
       " '_7': 27,\n",
       " '_i8': \"def performOperation(*args,operation='sum'):\\n    if operation =='sum':\\n        return sum(args) \\n    if operation=='multiply':\\n        return math.prod(args)\\nperformOperation(1,2,10,5,operation='multiply')\",\n",
       " '_i9': \"import math\\ndef performOperation(*args,operation='sum'):\\n    if operation =='sum':\\n        return sum(args) \\n    if operation=='multiply':\\n        return math.prod(args)\\nperformOperation(1,2,10,5,operation='multiply')\",\n",
       " 'math': <module 'math' (built-in)>,\n",
       " '_9': 100,\n",
       " '_i10': \"def performOperation(num1,num2,operation='sum'):\\n    print(locals())\\nperformOperation(1,2,operation='multiply')    \",\n",
       " '_i11': 'globals()',\n",
       " '_11': {...},\n",
       " '_i12': 'locals()'}"
      ]
     },
     "execution_count": 12,
     "metadata": {},
     "output_type": "execute_result"
    }
   ],
   "source": [
    "locals()"
   ]
  },
  {
   "cell_type": "code",
   "execution_count": 17,
   "id": "d5b8e5c7-8360-4a75-9a14-66d2077205c5",
   "metadata": {},
   "outputs": [
    {
     "name": "stdout",
     "output_type": "stream",
     "text": [
      "God Bless All\n",
      "{'varA': 1, 'varB': 2}\n",
      "God Bless All\n",
      "{'varC': 3, 'varD': 4}\n"
     ]
    }
   ],
   "source": [
    "message =\"God Bless All\"\n",
    "\n",
    "def fn1(varA,varB):\n",
    "    print (message)\n",
    "    print(locals())\n",
    "    \n",
    "def fn2(varC,varD):\n",
    "    print (message)\n",
    "    print(locals())   \n",
    "    \n",
    "fn1(1,2)\n",
    "fn2(3,4)\n",
    "    "
   ]
  },
  {
   "cell_type": "code",
   "execution_count": 16,
   "id": "fd197cd8-d203-41ad-9719-a8429484ba80",
   "metadata": {},
   "outputs": [
    {
     "name": "stdout",
     "output_type": "stream",
     "text": [
      "{'varA': 1, 'varB': 2}\n",
      "{'varC': 3, 'varD': 4}\n"
     ]
    }
   ],
   "source": [
    "\n",
    "\n",
    "def fn1(varA,varB):\n",
    "    print(locals())\n",
    "    \n",
    "def fn2(varC,varD):\n",
    "    print(locals())   \n",
    "    \n",
    "fn1(1,2)\n",
    "fn2(3,4)"
   ]
  },
  {
   "cell_type": "code",
   "execution_count": 18,
   "id": "ee79fdac-7041-4e6f-bfcd-18a129769769",
   "metadata": {},
   "outputs": [
    {
     "name": "stdout",
     "output_type": "stream",
     "text": [
      "God Bless All\n",
      "1\n",
      "{'varA': 1, 'varB': 2}\n",
      "God Bless All\n",
      "10\n",
      "{'varC': 3, 'varD': 4}\n"
     ]
    }
   ],
   "source": [
    "message =\"God Bless All\"\n",
    "varA=10\n",
    "def fn1(varA,varB):\n",
    "    print (message)\n",
    "    print (varA)\n",
    "    print(locals())\n",
    "    \n",
    "def fn2(varC,varD):\n",
    "    print (message)\n",
    "    print (varA)\n",
    "    print(locals())   \n",
    "    \n",
    "fn1(1,2)\n",
    "fn2(3,4)"
   ]
  },
  {
   "cell_type": "code",
   "execution_count": 21,
   "id": "06d83978-b395-4f16-b8b5-994fac44bc4e",
   "metadata": {},
   "outputs": [
    {
     "name": "stdout",
     "output_type": "stream",
     "text": [
      "1\n",
      "inner_fn local scope : {'varA': 123, 'varB': 456}\n",
      "1\n"
     ]
    }
   ],
   "source": [
    "def fn1(varA,varB):\n",
    "    message = 'Some local data'\n",
    "    print(varA)\n",
    "    def inner_fn(varA,varB):\n",
    "        print(f'inner_fn local scope : {locals()}')\n",
    "    inner_fn(123,456)\n",
    "    print(varA)\n",
    "fn1(1,2)    \n"
   ]
  },
  {
   "cell_type": "code",
   "execution_count": 24,
   "id": "a46589df-41b2-4cdb-b84c-27e5907d7549",
   "metadata": {},
   "outputs": [
    {
     "name": "stdout",
     "output_type": "stream",
     "text": [
      "1\n",
      "{'varA': 1, 'varB': 2, 'message': 'Some local data'}\n",
      "{'varA': 1, 'varB': 2, 'message': 'Some local data', 'inner_fn': <function fn1.<locals>.inner_fn at 0x00000171E3F75E10>}\n",
      "inner_fn local scope : {'varA': 123, 'varB': 456}\n",
      "1\n"
     ]
    }
   ],
   "source": [
    "def fn1(varA,varB):\n",
    "    message = 'Some local data'\n",
    "    print(varA)\n",
    "    print(locals()) \n",
    "    def inner_fn(varA,varB):\n",
    "        print(f'inner_fn local scope : {locals()}')\n",
    "    print(locals())    \n",
    "    inner_fn(123,456)\n",
    "    print(varA)\n",
    "fn1(1,2)   "
   ]
  },
  {
   "cell_type": "code",
   "execution_count": 25,
   "id": "3aebdc0d-c596-4d8e-a398-c30c64ed8d7b",
   "metadata": {},
   "outputs": [],
   "source": [
    "x=5\n",
    "def x():\n",
    "    return 5"
   ]
  },
  {
   "cell_type": "code",
   "execution_count": 26,
   "id": "c1801052-3268-4a5c-ad3b-9da67e2e8225",
   "metadata": {},
   "outputs": [
    {
     "name": "stdout",
     "output_type": "stream",
     "text": [
      "()\n",
      "b'd\\x01S\\x00'\n"
     ]
    }
   ],
   "source": [
    "print(x.__code__.co_varnames)\n",
    "print(x.__code__.co_code)"
   ]
  },
  {
   "cell_type": "code",
   "execution_count": null,
   "id": "1b559651-a127-43b1-99b8-5e460a2c6042",
   "metadata": {},
   "outputs": [],
   "source": [
    "text ='''But you, Israel, my servant,\n",
    "    Jacob, whom I - have chosen,\n",
    "    you descendants of Abraham my friend,\n",
    " I took you from the ends of the earth,\n",
    "    from its farthest corners I called you.\n",
    "I said, ‘You are my servant’;\n",
    "    I have chosen you and have not rejected you.\n",
    " So do not fear, for I am with you;\n",
    "    do not be dismayed, for I am your God.\n",
    "I will strengthen you -- and help you;\n",
    "    I will uphold you with my righteous right hand. '''"
   ]
  },
  {
   "cell_type": "code",
   "execution_count": null,
   "id": "b893f026-7dfb-41e1-a46a-954887d44354",
   "metadata": {},
   "outputs": [],
   "source": [
    "def lowercase(text):\n",
    "    return text.lower()\n",
    "    \n",
    "def removePunctuation(text):\n",
    "    punctuations = ['.','-' , ',', '*']\n",
    "    for punctuation in punctuations:\n",
    "        text = text.replace(punctuation,'')\n",
    "     return text\n",
    "\n",
    "def removeNewlines(text):\n",
    "     text=text.replace('\\n',' ')\n",
    "     return text \n",
    "def removeShortWords(text):\n",
    "    return ' '.join([word for word in text.split() if len(word)>3 ] )\n",
    "def removeLongWords(text):\n",
    "    return ' '.join([word for word in text.split() if len(word)<6 ] )\n",
    "    "
   ]
  },
  {
   "cell_type": "code",
   "execution_count": 32,
   "id": "21c2c0ee-2846-486c-a83e-b89ba7ee2506",
   "metadata": {},
   "outputs": [
    {
     "name": "stdout",
     "output_type": "stream",
     "text": [
      "jacob whom have took from ends earth from said ‘you have have fear with your will help will with right hand\n"
     ]
    }
   ],
   "source": [
    "processingFunctions = [lowercase,removePunctuation,removeNewlines]\n",
    "for func in processingFunctions:\n",
    "    text=func(text)\n",
    "\n",
    "print(text)    "
   ]
  },
  {
   "cell_type": "code",
   "execution_count": 31,
   "id": "721fcfbb-1a26-42a8-9b71-8d54fd2cd14e",
   "metadata": {
    "scrolled": true
   },
   "outputs": [
    {
     "name": "stdout",
     "output_type": "stream",
     "text": [
      "jacob whom have took from ends earth from said ‘you have have fear with your will help will with right hand\n"
     ]
    }
   ],
   "source": [
    "text = '''But you, Israel, my servant,\n",
    "    Jacob, whom I - have chosen,\n",
    "    you descendants of Abraham my friend,\n",
    " I took you from the ends of the earth,\n",
    "    from its farthest corners I called you.\n",
    "I said, ‘You are my servant’;\n",
    "    I have chosen you and have not rejected you.\n",
    " So do not fear, for I am with you;\n",
    "    do not be dismayed, for I am your God.\n",
    "I will strengthen you -- and help you;\n",
    "    I will uphold you with my righteous right hand.'''\n",
    "\n",
    "def lowercase(text):\n",
    "    return text.lower()\n",
    "\n",
    "def removePunctuation(text):\n",
    "    punctuations = ['.', '-', ',', '*', ';', '’', \"'\"]\n",
    "    for punctuation in punctuations:\n",
    "        text = text.replace(punctuation, '')\n",
    "    return text\n",
    "\n",
    "def removeNewlines(text):\n",
    "    return text.replace('\\n', ' ')\n",
    "\n",
    "def removeShortWords(text):\n",
    "    return ' '.join([word for word in text.split() if len(word) > 3])\n",
    "\n",
    "def removeLongWords(text):\n",
    "    return ' '.join([word for word in text.split() if len(word) < 6])\n",
    "\n",
    "# You can select functions to apply\n",
    "processingFunctions = [lowercase, removePunctuation, removeNewlines, removeShortWords, removeLongWords]\n",
    "\n",
    "for func in processingFunctions:\n",
    "    text = func(text)\n",
    "\n",
    "print(text)\n"
   ]
  },
  {
   "cell_type": "markdown",
   "id": "bc416e7e-41ee-4ba9-aefa-b8a76f852acf",
   "metadata": {},
   "source": [
    "## Lamda Functions"
   ]
  },
  {
   "cell_type": "code",
   "execution_count": 35,
   "id": "490162af-1246-42a8-bbc9-85ecbd639eed",
   "metadata": {},
   "outputs": [
    {
     "data": {
      "text/plain": [
       "8"
      ]
     },
     "execution_count": 35,
     "metadata": {},
     "output_type": "execute_result"
    }
   ],
   "source": [
    "(lambda x: x+3 )(5)"
   ]
  },
  {
   "cell_type": "code",
   "execution_count": 36,
   "id": "61a5f9e0-4992-416b-b0b6-9ace0e880213",
   "metadata": {},
   "outputs": [
    {
     "data": {
      "text/plain": [
       "[2, 3, 4, 5]"
      ]
     },
     "execution_count": 36,
     "metadata": {},
     "output_type": "execute_result"
    }
   ],
   "source": [
    "myList = [5,4,3,2]\n",
    "sorted(myList)"
   ]
  },
  {
   "cell_type": "code",
   "execution_count": 37,
   "id": "8e1b6b99-c7d0-4d23-8aba-20b3a6116758",
   "metadata": {},
   "outputs": [
    {
     "data": {
      "text/plain": [
       "[{'num': 1}, {'num': 2}, {'num': 3}]"
      ]
     },
     "execution_count": 37,
     "metadata": {},
     "output_type": "execute_result"
    }
   ],
   "source": [
    "myList=[{'num' : 3},{'num' : 2},{'num' : 1}]\n",
    "sorted(myList, key=lambda x : x['num'])"
   ]
  },
  {
   "cell_type": "code",
   "execution_count": null,
   "id": "760cf14c-3334-49eb-89c7-1fd21e29cd19",
   "metadata": {},
   "outputs": [],
   "source": []
  }
 ],
 "metadata": {
  "kernelspec": {
   "display_name": "Python 3 (ipykernel)",
   "language": "python",
   "name": "python3"
  },
  "language_info": {
   "codemirror_mode": {
    "name": "ipython",
    "version": 3
   },
   "file_extension": ".py",
   "mimetype": "text/x-python",
   "name": "python",
   "nbconvert_exporter": "python",
   "pygments_lexer": "ipython3",
   "version": "3.10.0"
  }
 },
 "nbformat": 4,
 "nbformat_minor": 5
}
