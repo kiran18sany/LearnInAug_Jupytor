{
 "cells": [
  {
   "cell_type": "code",
   "execution_count": 3,
   "id": "21585b4b-df60-4289-8abf-a3a5dc3421eb",
   "metadata": {},
   "outputs": [],
   "source": [
    "from multiprocess import Process\n",
    "import time\n"
   ]
  },
  {
   "cell_type": "code",
   "execution_count": 5,
   "id": "138cee3b-e9c6-44c4-94b8-ccf03d19c428",
   "metadata": {},
   "outputs": [
    {
     "name": "stdout",
     "output_type": "stream",
     "text": [
      "{}\n"
     ]
    }
   ],
   "source": [
    "def longSquare(num,results):\n",
    "    time.sleep(1)\n",
    "    print(num**2)\n",
    "\n",
    "results={}\n",
    "p1 = Process(target = longSquare,args = (1,results))\n",
    "p2 = Process(target = longSquare,args = (2,results))\n",
    "\n",
    "p1.start()\n",
    "p2.start()\n",
    "\n",
    "p1.join()\n",
    "p2.join()\n",
    "\n",
    "print(results)"
   ]
  },
  {
   "cell_type": "code",
   "execution_count": 6,
   "id": "22a303eb-b3f9-44e1-a45f-f6a29a3949e7",
   "metadata": {},
   "outputs": [
    {
     "name": "stdout",
     "output_type": "stream",
     "text": [
      "{}\n"
     ]
    }
   ],
   "source": [
    "def longSquare(num,results):\n",
    "    time.sleep(1)\n",
    "    print(num**2)\n",
    "    print('Finished computing')\n",
    "\n",
    "results={}\n",
    "processes =[Process(target=longSquare , args=(n,results)) for n in range(0,10)]\n",
    "[p.start() for p in processes]\n",
    "[p.join() for p in processes]\n",
    "\n",
    "print(results)"
   ]
  },
  {
   "cell_type": "code",
   "execution_count": 7,
   "id": "bdbca610-3655-4cb7-8b25-8d7bcc5b632b",
   "metadata": {},
   "outputs": [
    {
     "name": "stdout",
     "output_type": "stream",
     "text": [
      "{}\n"
     ]
    }
   ],
   "source": [
    "from multiprocessing import Process, Manager\n",
    "import time\n",
    "\n",
    "def longSquare(num, results):\n",
    "    time.sleep(1)\n",
    "    results[num] = num ** 2  # store result in shared dictionary\n",
    "    print(f\"Square of {num} is {num**2}\")\n",
    "\n",
    "if __name__ == \"__main__\":\n",
    "    with Manager() as manager:\n",
    "        results = manager.dict()\n",
    "\n",
    "        p1 = Process(target=longSquare, args=(1, results))\n",
    "        p2 = Process(target=longSquare, args=(2, results))\n",
    "\n",
    "        p1.start()\n",
    "        p2.start()\n",
    "\n",
    "        p1.join()\n",
    "        p2.join()\n",
    "\n",
    "        print(dict(results))  # convert manager dict to normal dict"
   ]
  },
  {
   "cell_type": "code",
   "execution_count": null,
   "id": "ab193ed9-24c2-456b-b934-16c0a26cebfd",
   "metadata": {},
   "outputs": [],
   "source": []
  }
 ],
 "metadata": {
  "kernelspec": {
   "display_name": "Python 3 (ipykernel)",
   "language": "python",
   "name": "python3"
  },
  "language_info": {
   "codemirror_mode": {
    "name": "ipython",
    "version": 3
   },
   "file_extension": ".py",
   "mimetype": "text/x-python",
   "name": "python",
   "nbconvert_exporter": "python",
   "pygments_lexer": "ipython3",
   "version": "3.10.0"
  }
 },
 "nbformat": 4,
 "nbformat_minor": 5
}
