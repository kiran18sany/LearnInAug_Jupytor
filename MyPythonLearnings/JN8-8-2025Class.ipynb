{
 "cells": [
  {
   "cell_type": "code",
   "execution_count": 2,
   "id": "62f60bf7-a10e-466c-9014-19316f124fba",
   "metadata": {},
   "outputs": [
    {
     "name": "stdout",
     "output_type": "stream",
     "text": [
      "Rover\n",
      "4\n"
     ]
    }
   ],
   "source": [
    "class Dog:\n",
    "    _legs=4\n",
    "    def __init__(self,name):\n",
    "        self.name = name\n",
    "    def getLegs(self):\n",
    "        return self._legs\n",
    "    def speak(self):\n",
    "        print(self.name + ' says : Bark! ')\n",
    "        \n",
    "myDog = Dog('Rover')\n",
    "print(myDog.name)\n",
    "print(myDog.getLegs())\n"
   ]
  },
  {
   "cell_type": "code",
   "execution_count": 3,
   "id": "96c2b476-a300-4da7-9608-7524a147bf51",
   "metadata": {},
   "outputs": [
    {
     "data": {
      "text/plain": [
       "4"
      ]
     },
     "execution_count": 3,
     "metadata": {},
     "output_type": "execute_result"
    }
   ],
   "source": [
    "Dog._legs"
   ]
  },
  {
   "cell_type": "code",
   "execution_count": 4,
   "id": "ed3f710d-7d2b-491f-894d-f076e96b8f61",
   "metadata": {},
   "outputs": [
    {
     "name": "stdout",
     "output_type": "stream",
     "text": [
      "3\n"
     ]
    }
   ],
   "source": [
    "Dog._legs=3\n",
    "print(Dog._legs)"
   ]
  },
  {
   "cell_type": "code",
   "execution_count": 5,
   "id": "276fa1bb-6021-4db7-b9ad-571338c9423c",
   "metadata": {},
   "outputs": [
    {
     "name": "stdout",
     "output_type": "stream",
     "text": [
      "Rover\n",
      "5\n",
      "3\n"
     ]
    }
   ],
   "source": [
    "myDog = Dog('Rover')\n",
    "myDog._legs=5\n",
    "print(myDog.name)\n",
    "print(myDog.getLegs())\n",
    "print(Dog._legs)"
   ]
  },
  {
   "cell_type": "code",
   "execution_count": 15,
   "id": "3e5e3591-3be3-432d-8541-a4da5bac1607",
   "metadata": {},
   "outputs": [
    {
     "name": "stdout",
     "output_type": "stream",
     "text": [
      "Hi, you know I'm Ryan! Here is a sentence I want to add!\n",
      "K\n",
      "Here is another sentence i want to add.\n",
      "{'im', 'know', 'here', 'is', 'another', 'hi', 'a', 'want', 'sentence', 'add', 'you', 'to', 'i', 'ryan'}\n"
     ]
    }
   ],
   "source": [
    "class WordSet : \n",
    "    def __init__(self):\n",
    "        self.words=set()\n",
    "    def addText(self,text):\n",
    "        print(text)\n",
    "        text=WordSet.cleanText(text)\n",
    "        \n",
    "        for word in text.split():\n",
    "           # print(word)\n",
    "            self.words.add(word)\n",
    "    def cleanText(text):\n",
    "        text=text.replace('!','').replace('.','').replace(',','').replace('\\'','')                                                                          \n",
    "        return text.lower()\n",
    "        \n",
    "wordSet = WordSet()\n",
    "wordSet.addText('Hi, you know I\\'m Ryan! Here is a sentence I want to add!')\n",
    "print('K')\n",
    "wordSet.addText('Here is another sentence i want to add.')\n",
    "\n",
    "print(wordSet.words)\n",
    " "
   ]
  },
  {
   "cell_type": "code",
   "execution_count": 16,
   "id": "9a2c5674-b518-42a5-8c93-0ac93ebfe5a5",
   "metadata": {},
   "outputs": [
    {
     "name": "stdout",
     "output_type": "stream",
     "text": [
      "Hi, you know I'm Ryan! Here is a sentence I want to add!\n",
      "K\n",
      "Here is another sentence i want to add.\n",
      "{'im', 'know', 'here', 'is', 'another', 'hi', 'a', 'want', 'sentence', 'add', 'you', 'to', 'i', 'ryan'}\n"
     ]
    }
   ],
   "source": [
    "class WordSet : \n",
    "    replacePuncs=['!','.',',','\\'']\n",
    "    def __init__(self):\n",
    "        self.words=set()\n",
    "    def addText(self,text):\n",
    "        print(text)\n",
    "        text=WordSet.cleanText(text)\n",
    "        \n",
    "        for word in text.split():\n",
    "           # print(word)\n",
    "            self.words.add(word)\n",
    "    def cleanText(text):\n",
    "        for punc in WordSet.replacePuncs:\n",
    "            text=text.replace(punc,'')\n",
    "        return text.lower()\n",
    "        \n",
    "wordSet = WordSet()\n",
    "wordSet.addText('Hi, you know I\\'m Ryan! Here is a sentence I want to add!')\n",
    "print('K')\n",
    "wordSet.addText('Here is another sentence i want to add.')\n",
    "\n",
    "print(wordSet.words)"
   ]
  },
  {
   "cell_type": "markdown",
   "id": "16a37879-d16d-4cb2-9de5-9a64fd583103",
   "metadata": {},
   "source": [
    "## Decorator - annotation or description for function defenition"
   ]
  },
  {
   "cell_type": "code",
   "execution_count": 18,
   "id": "ebfad506-11af-41ce-9ebf-85d3c8dd46ab",
   "metadata": {},
   "outputs": [
    {
     "name": "stdout",
     "output_type": "stream",
     "text": [
      "Hi, you know I'm Ryan! Here is a sentence I want to add!\n",
      "K\n",
      "Here is another sentence i want to add.\n",
      "{'im', 'know', 'here', 'is', 'another', 'hi', 'a', 'want', 'sentence', 'add', 'you', 'to', 'i', 'ryan'}\n"
     ]
    }
   ],
   "source": [
    "class WordSet : \n",
    "    replacePuncs=['!','.',',','\\'']\n",
    "    def __init__(self):\n",
    "        self.words=set()\n",
    "    def addText(self,text):\n",
    "        print(text)\n",
    "        text=self.cleanText(text)\n",
    "        \n",
    "        for word in text.split():\n",
    "           # print(word)\n",
    "            self.words.add(word)\n",
    "            \n",
    "    @staticmethod        \n",
    "    def cleanText(text):\n",
    "        for punc in WordSet.replacePuncs:\n",
    "            text=text.replace(punc,'')\n",
    "        return text.lower()\n",
    "        \n",
    "wordSet = WordSet()\n",
    "wordSet.addText('Hi, you know I\\'m Ryan! Here is a sentence I want to add!')\n",
    "print('K')\n",
    "wordSet.addText('Here is another sentence i want to add.')\n",
    "\n",
    "print(wordSet.words)"
   ]
  },
  {
   "cell_type": "markdown",
   "id": "83e8d4a5-e604-40ee-af0a-51d55a277d22",
   "metadata": {},
   "source": [
    "## Class Inheritance"
   ]
  },
  {
   "cell_type": "code",
   "execution_count": 23,
   "id": "6726abe8-939d-4d12-aec4-e74d7627033f",
   "metadata": {},
   "outputs": [],
   "source": [
    "class Dog:\n",
    "    _legs=4\n",
    "    def __init__(self,name):\n",
    "        self.name = name\n",
    "    def getLegs(self):\n",
    "        return self._legs\n",
    "    def speak(self):\n",
    "        print(self.name + ' says : Bark! ')\n",
    "\n",
    "        \n",
    "class Chihuahua(Dog):\n",
    "    def speak(self):\n",
    "        print(f'{self.name} says : Yap Yap yap!')\n",
    "    def wagTail(self):\n",
    "        print('Vigorous wagging!')"
   ]
  },
  {
   "cell_type": "code",
   "execution_count": 26,
   "id": "6271c098-6ff3-477d-8486-db88168cbecc",
   "metadata": {},
   "outputs": [
    {
     "name": "stdout",
     "output_type": "stream",
     "text": [
      "Roxy says : Yap Yap yap!\n",
      "Vigorous wagging!\n"
     ]
    }
   ],
   "source": [
    "dog=Chihuahua('Roxy')\n",
    "dog.speak()\n",
    "dog.wagTail()"
   ]
  },
  {
   "cell_type": "code",
   "execution_count": 25,
   "id": "bcf2c371-fcea-4b98-8807-a329ab5c2c2e",
   "metadata": {},
   "outputs": [
    {
     "name": "stdout",
     "output_type": "stream",
     "text": [
      "Rover says : Bark! \n"
     ]
    }
   ],
   "source": [
    "dog=Dog('Rover')\n",
    "dog.speak()"
   ]
  },
  {
   "cell_type": "markdown",
   "id": "3fb7b977-b665-4cbe-bf9d-2623a264b807",
   "metadata": {},
   "source": [
    "## Extending built-in classes"
   ]
  },
  {
   "cell_type": "code",
   "execution_count": 27,
   "id": "88c10059-f985-4a75-9f69-980170c64f53",
   "metadata": {},
   "outputs": [],
   "source": [
    "myList=list()"
   ]
  },
  {
   "cell_type": "code",
   "execution_count": 28,
   "id": "f493f169-6139-41ff-99d5-a367ae5fdf50",
   "metadata": {},
   "outputs": [
    {
     "name": "stdout",
     "output_type": "stream",
     "text": [
      "[1, 2]\n"
     ]
    }
   ],
   "source": [
    "class UniqueList(list):\n",
    "    def append(self,item):\n",
    "        if item in self:\n",
    "            return\n",
    "        super().append(item)\n",
    "uniqueList=   UniqueList()\n",
    "uniqueList.append(1)\n",
    "uniqueList.append(1)\n",
    "uniqueList.append(2)\n",
    "\n",
    "print(uniqueList)\n",
    "\n",
    "    "
   ]
  },
  {
   "cell_type": "code",
   "execution_count": 29,
   "id": "ae48a819-7afd-4b00-bf8b-5a6eed55dd94",
   "metadata": {},
   "outputs": [
    {
     "name": "stdout",
     "output_type": "stream",
     "text": [
      "Unique List !\n"
     ]
    }
   ],
   "source": [
    "class UniqueList(list):\n",
    "    def __init__(self):\n",
    "        super().__init__()\n",
    "        self.someProperty = 'Unique List !'\n",
    "    \n",
    "    def append(self,item):\n",
    "        if item in self:\n",
    "            return\n",
    "        super().append(item)\n",
    "        \n",
    "uniqueList=   UniqueList()\n",
    "uniqueList.append(1)\n",
    "uniqueList.append(1)\n",
    "uniqueList.append(2)\n",
    "\n",
    "print(uniqueList.someProperty)\n"
   ]
  },
  {
   "cell_type": "code",
   "execution_count": null,
   "id": "3046d9c0-7e98-4501-a26c-31d1d910a459",
   "metadata": {},
   "outputs": [],
   "source": []
  }
 ],
 "metadata": {
  "kernelspec": {
   "display_name": "Python 3 (ipykernel)",
   "language": "python",
   "name": "python3"
  },
  "language_info": {
   "codemirror_mode": {
    "name": "ipython",
    "version": 3
   },
   "file_extension": ".py",
   "mimetype": "text/x-python",
   "name": "python",
   "nbconvert_exporter": "python",
   "pygments_lexer": "ipython3",
   "version": "3.10.0"
  }
 },
 "nbformat": 4,
 "nbformat_minor": 5
}
