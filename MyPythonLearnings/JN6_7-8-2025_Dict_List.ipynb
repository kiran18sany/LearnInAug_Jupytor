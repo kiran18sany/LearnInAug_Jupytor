{
 "cells": [
  {
   "cell_type": "markdown",
   "id": "e0e128d5-b646-4746-a421-f2be2d5c3e63",
   "metadata": {},
   "source": [
    "## Dictionaries"
   ]
  },
  {
   "cell_type": "code",
   "execution_count": 27,
   "id": "88587779-1387-4a1c-857f-9e02fa5f0366",
   "metadata": {},
   "outputs": [],
   "source": [
    "from collections import defaultdict"
   ]
  },
  {
   "cell_type": "code",
   "execution_count": 1,
   "id": "fc0cb2a2-3cc3-48f0-a8e0-37825366f030",
   "metadata": {},
   "outputs": [
    {
     "data": {
      "text/plain": [
       "{'a': 'aardvark', 'b': 'bear', 'c': 'cat'}"
      ]
     },
     "execution_count": 1,
     "metadata": {},
     "output_type": "execute_result"
    }
   ],
   "source": [
    "animals = { 'a' : 'aardvark',\n",
    "          'b': 'bear',\n",
    "          'c' : 'cat',}\n",
    "animals"
   ]
  },
  {
   "cell_type": "code",
   "execution_count": 2,
   "id": "97a5b737-2c81-465a-92e6-00436ead343d",
   "metadata": {},
   "outputs": [
    {
     "data": {
      "text/plain": [
       "'aardvark'"
      ]
     },
     "execution_count": 2,
     "metadata": {},
     "output_type": "execute_result"
    }
   ],
   "source": [
    "animals['a']"
   ]
  },
  {
   "cell_type": "code",
   "execution_count": 3,
   "id": "eac51bb3-a734-49e8-ba49-037035d679b3",
   "metadata": {},
   "outputs": [
    {
     "data": {
      "text/plain": [
       "{'a': 'aardvark', 'b': 'bear', 'c': 'cat', 'd': 'dog'}"
      ]
     },
     "execution_count": 3,
     "metadata": {},
     "output_type": "execute_result"
    }
   ],
   "source": [
    "animals['d']='dog'\n",
    "animals"
   ]
  },
  {
   "cell_type": "code",
   "execution_count": 5,
   "id": "57dfeb82-554f-472f-bab4-02abe032cf90",
   "metadata": {},
   "outputs": [
    {
     "data": {
      "text/plain": [
       "{'a': 'antelope', 'b': 'bear', 'c': 'cat', 'd': 'dog'}"
      ]
     },
     "execution_count": 5,
     "metadata": {},
     "output_type": "execute_result"
    }
   ],
   "source": [
    "animals['a']='antelope'\n",
    "animals"
   ]
  },
  {
   "cell_type": "code",
   "execution_count": 6,
   "id": "e220c2c7-e254-4151-8776-f86a5f701f48",
   "metadata": {},
   "outputs": [
    {
     "data": {
      "text/plain": [
       "dict_keys(['a', 'b', 'c', 'd'])"
      ]
     },
     "execution_count": 6,
     "metadata": {},
     "output_type": "execute_result"
    }
   ],
   "source": [
    "animals.keys()"
   ]
  },
  {
   "cell_type": "code",
   "execution_count": 7,
   "id": "f4ba4d12-fb0e-454e-9a90-44d3030cf4f8",
   "metadata": {},
   "outputs": [
    {
     "data": {
      "text/plain": [
       "dict_values(['antelope', 'bear', 'cat', 'dog'])"
      ]
     },
     "execution_count": 7,
     "metadata": {},
     "output_type": "execute_result"
    }
   ],
   "source": [
    "animals.values()"
   ]
  },
  {
   "cell_type": "code",
   "execution_count": 8,
   "id": "0fd4d2a5-1f23-4c94-9729-6bbb454b6162",
   "metadata": {},
   "outputs": [
    {
     "data": {
      "text/plain": [
       "['a', 'b', 'c', 'd']"
      ]
     },
     "execution_count": 8,
     "metadata": {},
     "output_type": "execute_result"
    }
   ],
   "source": [
    "list(animals.keys())"
   ]
  },
  {
   "cell_type": "code",
   "execution_count": 9,
   "id": "32882531-41a5-4b08-be2a-2bed5049a4c9",
   "metadata": {},
   "outputs": [
    {
     "ename": "KeyError",
     "evalue": "'e'",
     "output_type": "error",
     "traceback": [
      "\u001b[1;31m---------------------------------------------------------------------------\u001b[0m",
      "\u001b[1;31mKeyError\u001b[0m                                  Traceback (most recent call last)",
      "Cell \u001b[1;32mIn[9], line 1\u001b[0m\n\u001b[1;32m----> 1\u001b[0m \u001b[43manimals\u001b[49m\u001b[43m[\u001b[49m\u001b[38;5;124;43m'\u001b[39;49m\u001b[38;5;124;43me\u001b[39;49m\u001b[38;5;124;43m'\u001b[39;49m\u001b[43m]\u001b[49m\n",
      "\u001b[1;31mKeyError\u001b[0m: 'e'"
     ]
    }
   ],
   "source": [
    "animals['e']"
   ]
  },
  {
   "cell_type": "code",
   "execution_count": 10,
   "id": "27f456ed-44c9-4266-97d5-497b934c33bb",
   "metadata": {},
   "outputs": [
    {
     "name": "stdout",
     "output_type": "stream",
     "text": [
      "None\n"
     ]
    }
   ],
   "source": [
    "print(animals.get('e'))"
   ]
  },
  {
   "cell_type": "code",
   "execution_count": 11,
   "id": "42a13a40-ffe4-496f-b492-157ea4a4e47f",
   "metadata": {},
   "outputs": [
    {
     "name": "stdout",
     "output_type": "stream",
     "text": [
      "antelope\n"
     ]
    }
   ],
   "source": [
    "print(animals.get('a'))"
   ]
  },
  {
   "cell_type": "code",
   "execution_count": 12,
   "id": "ced49184-023c-4f99-919b-93b6587e3b77",
   "metadata": {},
   "outputs": [
    {
     "name": "stdout",
     "output_type": "stream",
     "text": [
      "elephant\n"
     ]
    }
   ],
   "source": [
    "print(animals.get('e','elephant'))"
   ]
  },
  {
   "cell_type": "code",
   "execution_count": 13,
   "id": "d18a410b-97f7-4029-809d-32e1886b7e18",
   "metadata": {},
   "outputs": [
    {
     "data": {
      "text/plain": [
       "4"
      ]
     },
     "execution_count": 13,
     "metadata": {},
     "output_type": "execute_result"
    }
   ],
   "source": [
    "len(animals)"
   ]
  },
  {
   "cell_type": "code",
   "execution_count": 14,
   "id": "be113a96-c1f6-4114-a8b3-05501bc67ef1",
   "metadata": {},
   "outputs": [
    {
     "data": {
      "text/plain": [
       "{'a': ['aardvark', 'antelope'], 'b': ['bear']}"
      ]
     },
     "execution_count": 14,
     "metadata": {},
     "output_type": "execute_result"
    }
   ],
   "source": [
    "animals = { 'a' : ['aardvark','antelope'],\n",
    "          'b': ['bear'],\n",
    "          }\n",
    "animals"
   ]
  },
  {
   "cell_type": "code",
   "execution_count": 15,
   "id": "cc7dec75-d445-4715-8010-5f5aa4958bb6",
   "metadata": {},
   "outputs": [
    {
     "data": {
      "text/plain": [
       "{'a': ['aardvark', 'antelope'], 'b': ['bear', 'bison']}"
      ]
     },
     "execution_count": 15,
     "metadata": {},
     "output_type": "execute_result"
    }
   ],
   "source": [
    "animals['b'].append('bison')\n",
    "animals"
   ]
  },
  {
   "cell_type": "code",
   "execution_count": 17,
   "id": "095ed7ff-db46-4693-aa66-c7438f1ed420",
   "metadata": {},
   "outputs": [
    {
     "data": {
      "text/plain": [
       "{'a': ['aardvark', 'antelope'], 'b': ['bear', 'bison'], 'c': 'cat'}"
      ]
     },
     "execution_count": 17,
     "metadata": {},
     "output_type": "execute_result"
    }
   ],
   "source": [
    "animals['c']='cat'\n",
    "animals"
   ]
  },
  {
   "cell_type": "code",
   "execution_count": 24,
   "id": "ce5007dd-7494-4aa9-bdfa-bcb5feb9208d",
   "metadata": {},
   "outputs": [
    {
     "ename": "AttributeError",
     "evalue": "'str' object has no attribute 'append'",
     "output_type": "error",
     "traceback": [
      "\u001b[1;31m---------------------------------------------------------------------------\u001b[0m",
      "\u001b[1;31mAttributeError\u001b[0m                            Traceback (most recent call last)",
      "Cell \u001b[1;32mIn[24], line 3\u001b[0m\n\u001b[0;32m      1\u001b[0m \u001b[38;5;28;01mif\u001b[39;00m \u001b[38;5;124m'\u001b[39m\u001b[38;5;124mc\u001b[39m\u001b[38;5;124m'\u001b[39m \u001b[38;5;129;01mnot\u001b[39;00m \u001b[38;5;129;01min\u001b[39;00m animals :\n\u001b[0;32m      2\u001b[0m    animals[\u001b[38;5;124m'\u001b[39m\u001b[38;5;124mc\u001b[39m\u001b[38;5;124m'\u001b[39m] \u001b[38;5;241m=\u001b[39m[]\n\u001b[1;32m----> 3\u001b[0m \u001b[43manimals\u001b[49m\u001b[43m[\u001b[49m\u001b[38;5;124;43m'\u001b[39;49m\u001b[38;5;124;43mc\u001b[39;49m\u001b[38;5;124;43m'\u001b[39;49m\u001b[43m]\u001b[49m\u001b[38;5;241;43m.\u001b[39;49m\u001b[43mappend\u001b[49m(\u001b[38;5;124m'\u001b[39m\u001b[38;5;124mcat\u001b[39m\u001b[38;5;124m'\u001b[39m)\n\u001b[0;32m      4\u001b[0m animals\n",
      "\u001b[1;31mAttributeError\u001b[0m: 'str' object has no attribute 'append'"
     ]
    }
   ],
   "source": [
    " if 'c' not in animals :\n",
    "    animals['c'] =[]\n",
    " animals['c'].append('cat')\n",
    " animals"
   ]
  },
  {
   "cell_type": "code",
   "execution_count": 25,
   "id": "4335afe6-bd7c-4f65-b885-d8b3f19f5745",
   "metadata": {},
   "outputs": [
    {
     "name": "stdout",
     "output_type": "stream",
     "text": [
      "{'a': ['aardvark', 'antelope'], 'b': ['bear', 'bison'], 'c': ['cat']}\n"
     ]
    }
   ],
   "source": [
    "if 'c' not in animals or not isinstance(animals['c'], list):\n",
    "    animals['c'] = []\n",
    "\n",
    "animals['c'].append('cat')\n",
    "print(animals)"
   ]
  },
  {
   "cell_type": "markdown",
   "id": "5f3b196c-8c30-4f61-883b-0d8bdfc791ab",
   "metadata": {},
   "source": [
    "## Default Dict"
   ]
  },
  {
   "cell_type": "code",
   "execution_count": 28,
   "id": "f551fd06-4401-4021-aa90-967a1da751a4",
   "metadata": {},
   "outputs": [
    {
     "data": {
      "text/plain": [
       "defaultdict(list, {})"
      ]
     },
     "execution_count": 28,
     "metadata": {},
     "output_type": "execute_result"
    }
   ],
   "source": [
    "animals = defaultdict(list)\n",
    "animals"
   ]
  },
  {
   "cell_type": "code",
   "execution_count": 29,
   "id": "8f468bd9-203f-4f4a-ba8a-ac9621771cf1",
   "metadata": {},
   "outputs": [
    {
     "data": {
      "text/plain": [
       "defaultdict(list, {'e': ['elephant']})"
      ]
     },
     "execution_count": 29,
     "metadata": {},
     "output_type": "execute_result"
    }
   ],
   "source": [
    "animals['e'].append('elephant')\n",
    "animals"
   ]
  },
  {
   "cell_type": "code",
   "execution_count": 30,
   "id": "578b66c9-16b6-48de-8e85-6610b40f7e1b",
   "metadata": {},
   "outputs": [
    {
     "data": {
      "text/plain": [
       "defaultdict(list, {'e': ['elephant', 'emu']})"
      ]
     },
     "execution_count": 30,
     "metadata": {},
     "output_type": "execute_result"
    }
   ],
   "source": [
    "animals['e'].append('emu')\n",
    "animals"
   ]
  },
  {
   "cell_type": "code",
   "execution_count": 31,
   "id": "fe809bfd-19c4-4e63-b941-d19b444f9b4f",
   "metadata": {},
   "outputs": [
    {
     "data": {
      "text/plain": [
       "defaultdict(list, {'e': ['elephant', 'emu'], 'f': []})"
      ]
     },
     "execution_count": 31,
     "metadata": {},
     "output_type": "execute_result"
    }
   ],
   "source": [
    "animals['f']\n",
    "animals"
   ]
  },
  {
   "cell_type": "markdown",
   "id": "bf479eda-5066-4ef6-b10c-c7da33f9d70e",
   "metadata": {},
   "source": [
    "## List Comprehensions"
   ]
  },
  {
   "cell_type": "code",
   "execution_count": 32,
   "id": "f8210b4a-a7a4-484d-9f14-d89a82ab8bf8",
   "metadata": {},
   "outputs": [
    {
     "data": {
      "text/plain": [
       "[2, 4, 6, 8, 10]"
      ]
     },
     "execution_count": 32,
     "metadata": {},
     "output_type": "execute_result"
    }
   ],
   "source": [
    "myList=[1,2,3,4,5]\n",
    "[2* item for item in myList]"
   ]
  },
  {
   "cell_type": "markdown",
   "id": "deddafba-8381-4836-8b5b-33238325628a",
   "metadata": {},
   "source": [
    "## List comprehensions with filters"
   ]
  },
  {
   "cell_type": "code",
   "execution_count": 33,
   "id": "8f69e5d2-6649-43e7-8ecd-1f8921bffdfe",
   "metadata": {},
   "outputs": [
    {
     "data": {
      "text/plain": [
       "[0, 10, 20, 30, 40]"
      ]
     },
     "execution_count": 33,
     "metadata": {},
     "output_type": "execute_result"
    }
   ],
   "source": [
    "myList= list(range(50))\n",
    "filteredlist=[item for item in myList if item %10 ==0]\n",
    "filteredlist \n"
   ]
  },
  {
   "cell_type": "code",
   "execution_count": 35,
   "id": "77ac7a7c-c54d-47a5-9c44-43e2a7d67d78",
   "metadata": {},
   "outputs": [
    {
     "name": "stdout",
     "output_type": "stream",
     "text": [
      "[0, 1, 2, 10, 11, 12, 20, 21, 22, 30, 31, 32, 40, 41, 42]\n"
     ]
    }
   ],
   "source": [
    "myList= list(range(50))\n",
    "filteredlist=[item for item in myList if item % 10 < 3]\n",
    "print(filteredlist )\n"
   ]
  },
  {
   "cell_type": "markdown",
   "id": "c03593ba-81fc-402c-9543-444d9e2ab559",
   "metadata": {},
   "source": [
    "## List comprehensions with functions"
   ]
  },
  {
   "cell_type": "code",
   "execution_count": 37,
   "id": "9d3f51ab-d61f-4745-b3fb-372608c8b8cd",
   "metadata": {},
   "outputs": [
    {
     "data": {
      "text/plain": [
       "['My name is Kiran', ' I live in Dubai', ' Praise the Lord']"
      ]
     },
     "execution_count": 37,
     "metadata": {},
     "output_type": "execute_result"
    }
   ],
   "source": [
    "myString = \"My name is Kiran. I live in Dubai. Praise the Lord\"\n",
    "myString.split('.')"
   ]
  },
  {
   "cell_type": "code",
   "execution_count": 39,
   "id": "21927338-90ce-4c5f-9136-d0fbc403a367",
   "metadata": {},
   "outputs": [
    {
     "name": "stdout",
     "output_type": "stream",
     "text": [
      "['My', 'name', 'is', 'Kiran.', 'I', 'live', 'in', 'Dubai.', 'Praise', 'the', 'Lord']\n"
     ]
    }
   ],
   "source": [
    "print (myString.split())"
   ]
  },
  {
   "cell_type": "code",
   "execution_count": 43,
   "id": "9e55c249-26b3-4096-86ac-3a84037f185b",
   "metadata": {},
   "outputs": [
    {
     "name": "stdout",
     "output_type": "stream",
     "text": [
      "['my', 'name', 'is', 'kiran', 'i', 'live', 'in', 'dubai', 'praise', 'the', 'lord']\n"
     ]
    }
   ],
   "source": [
    "def cleanWord(word):\n",
    "    return word.replace('.','').lower()\n",
    "print([cleanWord(word) for word in myString.split() ])"
   ]
  },
  {
   "cell_type": "code",
   "execution_count": 45,
   "id": "4fbe02ad-5d09-47db-a5dc-a3a37709ca51",
   "metadata": {},
   "outputs": [
    {
     "name": "stdout",
     "output_type": "stream",
     "text": [
      "['my', 'is', 'i', 'in']\n"
     ]
    }
   ],
   "source": [
    "print([cleanWord(word) for word in myString.split() if len(cleanWord(word))<3])"
   ]
  },
  {
   "cell_type": "code",
   "execution_count": 46,
   "id": "75372be9-6ef2-4648-8d69-fb867050566e",
   "metadata": {},
   "outputs": [
    {
     "data": {
      "text/plain": [
       "[['my', 'name', 'is', 'kiran'],\n",
       " ['i', 'live', 'in', 'dubai'],\n",
       " ['praise', 'the', 'lord']]"
      ]
     },
     "execution_count": 46,
     "metadata": {},
     "output_type": "execute_result"
    }
   ],
   "source": [
    "[[cleanWord(word) for word in sentence.split() ] for sentence in myString.split('.')]"
   ]
  },
  {
   "cell_type": "markdown",
   "id": "5df1bebd-d8ab-492e-8933-f06a02beb2d4",
   "metadata": {},
   "source": [
    "## Dictionary Comprehensions"
   ]
  },
  {
   "cell_type": "code",
   "execution_count": 47,
   "id": "42cb121f-26ea-4d4b-8907-f899f6c26d3c",
   "metadata": {},
   "outputs": [
    {
     "data": {
      "text/plain": [
       "{'a': 'ant', 'b': 'bee', 'c': 'cat', 'd': 'dog'}"
      ]
     },
     "execution_count": 47,
     "metadata": {},
     "output_type": "execute_result"
    }
   ],
   "source": [
    "animalList = [('a','ant'),('b','bee'),('c','cat'),('d','dog')]\n",
    "animals = { item[0] : item[1] for item in animalList }\n",
    "animals"
   ]
  },
  {
   "cell_type": "code",
   "execution_count": 48,
   "id": "6e1024f9-181b-4988-869c-6792d6698012",
   "metadata": {},
   "outputs": [
    {
     "data": {
      "text/plain": [
       "{'a': 'ant', 'b': 'bee', 'c': 'cat', 'd': 'dog'}"
      ]
     },
     "execution_count": 48,
     "metadata": {},
     "output_type": "execute_result"
    }
   ],
   "source": [
    "animals = {key : value for key , value in animalList}\n",
    "animals"
   ]
  },
  {
   "cell_type": "code",
   "execution_count": 49,
   "id": "84449177-b97b-490a-a48c-71260917ec09",
   "metadata": {},
   "outputs": [
    {
     "data": {
      "text/plain": [
       "{'a': 'ant', 'b': 'bee', 'c': 'cat', 'd': 'dog'}"
      ]
     },
     "execution_count": 49,
     "metadata": {},
     "output_type": "execute_result"
    }
   ],
   "source": [
    "animals = {a : b for a , b in animalList}\n",
    "animals"
   ]
  },
  {
   "cell_type": "code",
   "execution_count": 50,
   "id": "e390e915-3ef7-48ec-91e3-1bc4edf55482",
   "metadata": {},
   "outputs": [
    {
     "data": {
      "text/plain": [
       "dict_items([('a', 'ant'), ('b', 'bee'), ('c', 'cat'), ('d', 'dog')])"
      ]
     },
     "execution_count": 50,
     "metadata": {},
     "output_type": "execute_result"
    }
   ],
   "source": [
    "animals.items()"
   ]
  },
  {
   "cell_type": "code",
   "execution_count": 52,
   "id": "8c78cd5d-991f-454e-aeba-8d04cfe55cd2",
   "metadata": {},
   "outputs": [
    {
     "data": {
      "text/plain": [
       "[('a', 'ant'), ('b', 'bee'), ('c', 'cat'), ('d', 'dog')]"
      ]
     },
     "execution_count": 52,
     "metadata": {},
     "output_type": "execute_result"
    }
   ],
   "source": [
    "list(animals.items())"
   ]
  },
  {
   "cell_type": "code",
   "execution_count": 53,
   "id": "5efbaee3-b1dc-4df3-9806-841b1bf5c8d2",
   "metadata": {},
   "outputs": [
    {
     "data": {
      "text/plain": [
       "[{'letter': 'a', 'name': 'ant'},\n",
       " {'letter': 'b', 'name': 'bee'},\n",
       " {'letter': 'c', 'name': 'cat'},\n",
       " {'letter': 'd', 'name': 'dog'}]"
      ]
     },
     "execution_count": 53,
     "metadata": {},
     "output_type": "execute_result"
    }
   ],
   "source": [
    "[{'letter' : key , 'name' : value} for key,value in animals.items()]"
   ]
  },
  {
   "cell_type": "code",
   "execution_count": 54,
   "id": "1bbb42ef-aa36-406a-bd74-a3ca10adaccc",
   "metadata": {},
   "outputs": [
    {
     "data": {
      "text/plain": [
       "[{'letter': 'a', 'name': 'ant'},\n",
       " {'letter': 'b', 'name': 'bee'},\n",
       " {'letter': 'c', 'name': 'cat'},\n",
       " {'letter': 'd', 'name': 'dog'}]"
      ]
     },
     "execution_count": 54,
     "metadata": {},
     "output_type": "execute_result"
    }
   ],
   "source": [
    "[{'letter' : a , 'name' : b} for a,b in animals.items()]"
   ]
  },
  {
   "cell_type": "code",
   "execution_count": null,
   "id": "3260ad29-e04c-44a7-87ab-980a2c9526e3",
   "metadata": {},
   "outputs": [],
   "source": []
  }
 ],
 "metadata": {
  "kernelspec": {
   "display_name": "Python 3 (ipykernel)",
   "language": "python",
   "name": "python3"
  },
  "language_info": {
   "codemirror_mode": {
    "name": "ipython",
    "version": 3
   },
   "file_extension": ".py",
   "mimetype": "text/x-python",
   "name": "python",
   "nbconvert_exporter": "python",
   "pygments_lexer": "ipython3",
   "version": "3.10.0"
  }
 },
 "nbformat": 4,
 "nbformat_minor": 5
}
