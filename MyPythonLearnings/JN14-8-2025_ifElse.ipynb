{
 "cells": [
  {
   "cell_type": "markdown",
   "id": "e1356dfa-90bd-4969-8a9e-7d556e19f0f7",
   "metadata": {},
   "source": [
    "# if - else"
   ]
  },
  {
   "cell_type": "code",
   "execution_count": 2,
   "id": "5e272bf3-3cdc-4a36-bea7-399f06dab725",
   "metadata": {},
   "outputs": [
    {
     "name": "stdout",
     "output_type": "stream",
     "text": [
      "1\n",
      "2\n",
      "Fizz\n",
      "4\n",
      "Buzz\n",
      "Fizz\n",
      "7\n",
      "8\n",
      "Fizz\n",
      "Buzz\n",
      "11\n",
      "Fizz\n",
      "13\n",
      "14\n",
      "FizzBuzz\n",
      "16\n",
      "17\n",
      "Fizz\n",
      "19\n"
     ]
    }
   ],
   "source": [
    "# 1, 2, Fizz, 4, Buzz, Fizz, 7, 8, Fizz, Buzz, 11, Fizz, 13, FizzBuzz, 16\n",
    "\n",
    "for n in range(1, 20):\n",
    "    if n % 15 == 0:\n",
    "        print('FizzBuzz')\n",
    "    else:\n",
    "        if n % 3 == 0:\n",
    "            print('Fizz')\n",
    "        else:\n",
    "            if n % 5 == 0:\n",
    "                print('Buzz')\n",
    "            else:\n",
    "                print(n)"
   ]
  },
  {
   "cell_type": "markdown",
   "id": "6682d71f-5ffc-47a8-a6c4-113941fe869d",
   "metadata": {},
   "source": [
    "## Elif statements "
   ]
  },
  {
   "cell_type": "code",
   "execution_count": 3,
   "id": "6fb7ce70-bd1b-4674-b62b-22e4be18d461",
   "metadata": {},
   "outputs": [
    {
     "name": "stdout",
     "output_type": "stream",
     "text": [
      "1\n",
      "2\n",
      "Fizz\n",
      "4\n",
      "Buzz\n",
      "Fizz\n",
      "7\n",
      "8\n",
      "Fizz\n",
      "Buzz\n",
      "11\n",
      "Fizz\n",
      "13\n",
      "14\n",
      "FizzBuzz\n",
      "16\n",
      "17\n",
      "Fizz\n",
      "19\n"
     ]
    }
   ],
   "source": [
    "for n in range(1, 20):\n",
    "    if n % 15 == 0:\n",
    "        print('FizzBuzz')\n",
    "    elif n % 3 == 0:\n",
    "        print('Fizz')\n",
    "    elif n % 5 == 0:\n",
    "        print('Buzz')\n",
    "    else:\n",
    "        print(n)"
   ]
  },
  {
   "cell_type": "markdown",
   "id": "791d7963-d04b-4428-8bbd-e6e2c85b2935",
   "metadata": {},
   "source": [
    "## Single Line if statements"
   ]
  },
  {
   "cell_type": "code",
   "execution_count": 4,
   "id": "561eef79-ac95-4b49-a225-296fd81aef6a",
   "metadata": {},
   "outputs": [
    {
     "name": "stdout",
     "output_type": "stream",
     "text": [
      "5\n"
     ]
    }
   ],
   "source": [
    "n = 5\n",
    "print('Fizz' if n % 3 == 0 else n)"
   ]
  },
  {
   "cell_type": "markdown",
   "id": "4f111b72-9a65-4373-b01e-50fb5dd82ea9",
   "metadata": {},
   "source": [
    "## Like ternary operator"
   ]
  },
  {
   "cell_type": "code",
   "execution_count": 7,
   "id": "bead6db0-e25e-4ddc-b1d5-3531fb44c377",
   "metadata": {},
   "outputs": [
    {
     "name": "stdout",
     "output_type": "stream",
     "text": [
      "5\n"
     ]
    }
   ],
   "source": [
    "fizzBuzz = 'Fizz' if n%3==0 else n\n",
    "print (fizzBuzz)"
   ]
  },
  {
   "cell_type": "code",
   "execution_count": 8,
   "id": "02e58ecc-38ea-4710-90b5-a2d8fe6b913a",
   "metadata": {},
   "outputs": [
    {
     "data": {
      "text/plain": [
       "'Buzz'"
      ]
     },
     "execution_count": 8,
     "metadata": {},
     "output_type": "execute_result"
    }
   ],
   "source": [
    "'FizzBuzz' if n % 15 == 0 else 'Fizz' if n % 3 == 0 else 'Buzz' if n % 5 == 0 else n"
   ]
  },
  {
   "cell_type": "code",
   "execution_count": 9,
   "id": "a50f3645-341c-4902-be95-e6e79eb91150",
   "metadata": {},
   "outputs": [
    {
     "data": {
      "text/plain": [
       "[1,\n",
       " 2,\n",
       " 'Fizz',\n",
       " 4,\n",
       " 'Buzz',\n",
       " 'Fizz',\n",
       " 7,\n",
       " 8,\n",
       " 'Fizz',\n",
       " 'Buzz',\n",
       " 11,\n",
       " 'Fizz',\n",
       " 13,\n",
       " 14,\n",
       " 'FizzBuzz',\n",
       " 16,\n",
       " 17,\n",
       " 'Fizz',\n",
       " 19]"
      ]
     },
     "execution_count": 9,
     "metadata": {},
     "output_type": "execute_result"
    }
   ],
   "source": [
    "['FizzBuzz' if n % 15 == 0 else 'Fizz' if n % 3 == 0 else 'Buzz' if n % 5 == 0 else n for n in range(1, 20)]"
   ]
  },
  {
   "cell_type": "code",
   "execution_count": 10,
   "id": "5117e690-526d-4d1f-91ff-9af1303faea9",
   "metadata": {},
   "outputs": [
    {
     "name": "stdout",
     "output_type": "stream",
     "text": [
      "[1, 2, 'Fizz', 4, 'Buzz', 'Fizz', 7, 8, 'Fizz', 'Buzz', 11, 'Fizz', 13, 14, 'FizzBuzz', 16, 17, 'Fizz', 19]\n"
     ]
    }
   ],
   "source": [
    "print (['FizzBuzz' if n % 15 == 0 else 'Fizz' if n % 3 == 0 else 'Buzz' if n % 5 == 0 else n for n in range(1, 20)])"
   ]
  },
  {
   "cell_type": "code",
   "execution_count": 11,
   "id": "d690e11e-ef31-449c-9804-dcc939907253",
   "metadata": {},
   "outputs": [
    {
     "data": {
      "text/plain": [
       "[1, 'Monty', 'Python', 'Monty', 5, 'Monty Python', 7, 'Monty', 'Python']"
      ]
     },
     "execution_count": 11,
     "metadata": {},
     "output_type": "execute_result"
    }
   ],
   "source": [
    "['Monty Python' if n % 6 == 0 else 'Python' if n % 3 == 0 else 'Monty' if n % 2 == 0 else n for n in range(1, 10)]"
   ]
  },
  {
   "cell_type": "code",
   "execution_count": 12,
   "id": "4a82bfc7-e2b5-4042-82df-d2d518f60d61",
   "metadata": {},
   "outputs": [
    {
     "name": "stdout",
     "output_type": "stream",
     "text": [
      "Let's print something out!\n"
     ]
    }
   ],
   "source": [
    "for number in range(1, 9):\n",
    "    if number % 10 == 0:\n",
    "        break\n",
    "else:\n",
    "    print('Let\\'s print something out!')"
   ]
  },
  {
   "cell_type": "code",
   "execution_count": 14,
   "id": "eda61dda-1843-44a3-a64f-b33ae1ea3860",
   "metadata": {},
   "outputs": [
    {
     "name": "stdout",
     "output_type": "stream",
     "text": [
      "10\n"
     ]
    }
   ],
   "source": [
    "for number in range(1, 100):\n",
    "    if number % 10 == 0:\n",
    "        print(number)\n",
    "        break\n",
    "else:\n",
    "    print('Let\\'s print something out!')"
   ]
  },
  {
   "cell_type": "code",
   "execution_count": null,
   "id": "9ec0f163-7dfb-4cc7-b6f2-2a5385567545",
   "metadata": {},
   "outputs": [],
   "source": []
  }
 ],
 "metadata": {
  "kernelspec": {
   "display_name": "Python 3 (ipykernel)",
   "language": "python",
   "name": "python3"
  },
  "language_info": {
   "codemirror_mode": {
    "name": "ipython",
    "version": 3
   },
   "file_extension": ".py",
   "mimetype": "text/x-python",
   "name": "python",
   "nbconvert_exporter": "python",
   "pygments_lexer": "ipython3",
   "version": "3.10.0"
  }
 },
 "nbformat": 4,
 "nbformat_minor": 5
}
