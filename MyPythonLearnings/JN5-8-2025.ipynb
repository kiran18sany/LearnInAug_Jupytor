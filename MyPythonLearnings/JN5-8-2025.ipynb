{
 "cells": [
  {
   "cell_type": "markdown",
   "id": "22e27e6f-8f44-4232-a37f-9241542406f8",
   "metadata": {},
   "source": [
    "## Ins and Floats"
   ]
  },
  {
   "cell_type": "code",
   "execution_count": 1,
   "id": "1713a22d-3de7-4860-9ac2-a0e98b07123b",
   "metadata": {},
   "outputs": [
    {
     "data": {
      "text/plain": [
       "5.0"
      ]
     },
     "execution_count": 1,
     "metadata": {},
     "output_type": "execute_result"
    }
   ],
   "source": [
    "20/4"
   ]
  },
  {
   "cell_type": "code",
   "execution_count": 2,
   "id": "df9b5329-5448-4791-99ef-cb7a5b5241e0",
   "metadata": {},
   "outputs": [
    {
     "data": {
      "text/plain": [
       "8"
      ]
     },
     "execution_count": 2,
     "metadata": {},
     "output_type": "execute_result"
    }
   ],
   "source": [
    "4 + 4"
   ]
  },
  {
   "cell_type": "code",
   "execution_count": 3,
   "id": "1fa03642-4614-4b50-8400-449444cfa4a6",
   "metadata": {},
   "outputs": [
    {
     "data": {
      "text/plain": [
       "8.0"
      ]
     },
     "execution_count": 3,
     "metadata": {},
     "output_type": "execute_result"
    }
   ],
   "source": [
    "4 + 4.0"
   ]
  },
  {
   "cell_type": "code",
   "execution_count": 4,
   "id": "8d0900f1-a23b-497b-aa68-e21104a6b614",
   "metadata": {},
   "outputs": [
    {
     "data": {
      "text/plain": [
       "256.0"
      ]
     },
     "execution_count": 4,
     "metadata": {},
     "output_type": "execute_result"
    }
   ],
   "source": [
    "4 ** 4.0"
   ]
  },
  {
   "cell_type": "code",
   "execution_count": 5,
   "id": "b1714e30-4b61-442c-b8ae-a991bfc005f6",
   "metadata": {},
   "outputs": [
    {
     "data": {
      "text/plain": [
       "256"
      ]
     },
     "execution_count": 5,
     "metadata": {},
     "output_type": "execute_result"
    }
   ],
   "source": [
    "int(4 ** 4.0)\n"
   ]
  },
  {
   "cell_type": "code",
   "execution_count": 6,
   "id": "58f206d7-d42a-4d4a-bb4c-bd32d7040b8e",
   "metadata": {},
   "outputs": [
    {
     "data": {
      "text/plain": [
       "int"
      ]
     },
     "execution_count": 6,
     "metadata": {},
     "output_type": "execute_result"
    }
   ],
   "source": [
    "int"
   ]
  },
  {
   "cell_type": "code",
   "execution_count": 7,
   "id": "15ef7be6-d332-4ded-a351-67241427c4e9",
   "metadata": {},
   "outputs": [
    {
     "data": {
      "text/plain": [
       "8"
      ]
     },
     "execution_count": 7,
     "metadata": {},
     "output_type": "execute_result"
    }
   ],
   "source": [
    "int(8.999)\n"
   ]
  },
  {
   "cell_type": "code",
   "execution_count": 8,
   "id": "079cedb1-620f-46f2-96d9-d84504d6d75f",
   "metadata": {},
   "outputs": [
    {
     "data": {
      "text/plain": [
       "9"
      ]
     },
     "execution_count": 8,
     "metadata": {},
     "output_type": "execute_result"
    }
   ],
   "source": [
    "round(8.999)\n"
   ]
  },
  {
   "cell_type": "code",
   "execution_count": 10,
   "id": "a480013e-d54c-4aa1-ad7d-17e80d12bffc",
   "metadata": {},
   "outputs": [
    {
     "data": {
      "text/plain": [
       "4.67"
      ]
     },
     "execution_count": 10,
     "metadata": {},
     "output_type": "execute_result"
    }
   ],
   "source": [
    "round(14/3,2)"
   ]
  },
  {
   "cell_type": "code",
   "execution_count": 11,
   "id": "e3bc2098-e3ba-4310-bcf1-7b50101b50f0",
   "metadata": {},
   "outputs": [
    {
     "data": {
      "text/plain": [
       "4.666666666666667"
      ]
     },
     "execution_count": 11,
     "metadata": {},
     "output_type": "execute_result"
    }
   ],
   "source": [
    "14/3"
   ]
  },
  {
   "cell_type": "code",
   "execution_count": 12,
   "id": "0fe87638-4cc2-43bb-b4c9-98764e55ce05",
   "metadata": {
    "scrolled": true
   },
   "outputs": [
    {
     "data": {
      "text/plain": [
       "0.19999999999999996"
      ]
     },
     "execution_count": 12,
     "metadata": {},
     "output_type": "execute_result"
    }
   ],
   "source": [
    "1.2-1.0"
   ]
  },
  {
   "cell_type": "markdown",
   "id": "dc47b000-1d08-4b75-b5b1-5a39c0082a21",
   "metadata": {},
   "source": [
    "from decimal import Decimal,getcontext"
   ]
  },
  {
   "cell_type": "markdown",
   "id": "fd1d72fb-de60-4d21-b508-b7ebe23cbd10",
   "metadata": {},
   "source": [
    "## Integers"
   ]
  },
  {
   "cell_type": "code",
   "execution_count": 13,
   "id": "d327b82c-a3d2-4e91-ac44-3c50350fe14b",
   "metadata": {},
   "outputs": [
    {
     "data": {
      "text/plain": [
       "100"
      ]
     },
     "execution_count": 13,
     "metadata": {},
     "output_type": "execute_result"
    }
   ],
   "source": [
    "int('100')"
   ]
  },
  {
   "cell_type": "code",
   "execution_count": 14,
   "id": "614585b5-4867-405f-a223-210b3a100b43",
   "metadata": {},
   "outputs": [
    {
     "data": {
      "text/plain": [
       "4"
      ]
     },
     "execution_count": 14,
     "metadata": {},
     "output_type": "execute_result"
    }
   ],
   "source": [
    "int('100',2)"
   ]
  },
  {
   "cell_type": "code",
   "execution_count": 15,
   "id": "cf82d683-f22d-49aa-b63e-808e09a9fe3a",
   "metadata": {},
   "outputs": [
    {
     "ename": "TypeError",
     "evalue": "int() can't convert non-string with explicit base",
     "output_type": "error",
     "traceback": [
      "\u001b[1;31m---------------------------------------------------------------------------\u001b[0m",
      "\u001b[1;31mTypeError\u001b[0m                                 Traceback (most recent call last)",
      "Cell \u001b[1;32mIn[15], line 1\u001b[0m\n\u001b[1;32m----> 1\u001b[0m \u001b[38;5;28;43mint\u001b[39;49m\u001b[43m(\u001b[49m\u001b[38;5;241;43m100\u001b[39;49m\u001b[43m,\u001b[49m\u001b[38;5;241;43m2\u001b[39;49m\u001b[43m)\u001b[49m\n",
      "\u001b[1;31mTypeError\u001b[0m: int() can't convert non-string with explicit base"
     ]
    }
   ],
   "source": [
    "int(100,2)"
   ]
  },
  {
   "cell_type": "code",
   "execution_count": 18,
   "id": "256be358-e3c1-4243-9391-8ffcf9e07050",
   "metadata": {},
   "outputs": [
    {
     "data": {
      "text/plain": [
       "427"
      ]
     },
     "execution_count": 18,
     "metadata": {},
     "output_type": "execute_result"
    }
   ],
   "source": [
    "int ('1ab',16)"
   ]
  },
  {
   "cell_type": "code",
   "execution_count": 19,
   "id": "79b73aa5-ba24-4e53-a400-8d047ef14a92",
   "metadata": {},
   "outputs": [
    {
     "ename": "NameError",
     "evalue": "name 'getcontext' is not defined",
     "output_type": "error",
     "traceback": [
      "\u001b[1;31m---------------------------------------------------------------------------\u001b[0m",
      "\u001b[1;31mNameError\u001b[0m                                 Traceback (most recent call last)",
      "Cell \u001b[1;32mIn[19], line 1\u001b[0m\n\u001b[1;32m----> 1\u001b[0m \u001b[43mgetcontext\u001b[49m()\n",
      "\u001b[1;31mNameError\u001b[0m: name 'getcontext' is not defined"
     ]
    }
   ],
   "source": [
    "from decimal import Decimal,getcontext"
   ]
  },
  {
   "cell_type": "code",
   "execution_count": 20,
   "id": "840d0a7b-4ec0-4a91-a0c2-f182a737f56a",
   "metadata": {},
   "outputs": [
    {
     "ename": "NameError",
     "evalue": "name 'getcontext' is not defined",
     "output_type": "error",
     "traceback": [
      "\u001b[1;31m---------------------------------------------------------------------------\u001b[0m",
      "\u001b[1;31mNameError\u001b[0m                                 Traceback (most recent call last)",
      "Cell \u001b[1;32mIn[20], line 1\u001b[0m\n\u001b[1;32m----> 1\u001b[0m \u001b[43mgetcontext\u001b[49m()\n",
      "\u001b[1;31mNameError\u001b[0m: name 'getcontext' is not defined"
     ]
    }
   ],
   "source": [
    "getcontext()"
   ]
  },
  {
   "cell_type": "code",
   "execution_count": 23,
   "id": "a77739e3-0abb-4120-a717-b6df26f9b30e",
   "metadata": {},
   "outputs": [
    {
     "name": "stdout",
     "output_type": "stream",
     "text": [
      "0.333\n"
     ]
    }
   ],
   "source": [
    "getcontext().prec = 3\n",
    "a = Decimal(1) / Decimal(3)\n",
    "print(a)"
   ]
  },
  {
   "cell_type": "code",
   "execution_count": 22,
   "id": "edf3ef30-3a91-474c-af2b-de6c0563104e",
   "metadata": {},
   "outputs": [
    {
     "name": "stdout",
     "output_type": "stream",
     "text": [
      "0.33333\n"
     ]
    }
   ],
   "source": [
    "from decimal import Decimal, getcontext\n",
    "\n",
    "getcontext().prec = 5\n",
    "\n",
    "a = Decimal(1) / Decimal(3)\n",
    "print(a)  # Output: 0.33333"
   ]
  },
  {
   "cell_type": "code",
   "execution_count": 24,
   "id": "0aedc0f1-3cf2-4cb7-80c9-14a49b8f6871",
   "metadata": {},
   "outputs": [
    {
     "data": {
      "text/plain": [
       "Context(prec=3, rounding=ROUND_HALF_EVEN, Emin=-999999, Emax=999999, capitals=1, clamp=0, flags=[Inexact, Rounded], traps=[InvalidOperation, DivisionByZero, Overflow])"
      ]
     },
     "execution_count": 24,
     "metadata": {},
     "output_type": "execute_result"
    }
   ],
   "source": [
    "getcontext()"
   ]
  },
  {
   "cell_type": "code",
   "execution_count": 25,
   "id": "29f1912c-aa56-4ffd-9782-47fba074fd33",
   "metadata": {},
   "outputs": [
    {
     "data": {
      "text/plain": [
       "Decimal('3.140000000000000124344978758017532527446746826171875')"
      ]
     },
     "execution_count": 25,
     "metadata": {},
     "output_type": "execute_result"
    }
   ],
   "source": [
    "Decimal(3.14)"
   ]
  },
  {
   "cell_type": "code",
   "execution_count": 26,
   "id": "6d4807cc-c06d-4f7f-9e54-f8b553f5e2be",
   "metadata": {},
   "outputs": [
    {
     "data": {
      "text/plain": [
       "Decimal('3.14')"
      ]
     },
     "execution_count": 26,
     "metadata": {},
     "output_type": "execute_result"
    }
   ],
   "source": [
    "Decimal('3.14')"
   ]
  },
  {
   "cell_type": "markdown",
   "id": "37def9c7-cb0a-4901-8bdc-bfb5a68aaeca",
   "metadata": {},
   "source": [
    "## Booleans"
   ]
  },
  {
   "cell_type": "code",
   "execution_count": 27,
   "id": "58fce667-b8df-4db7-a126-a92393f5e2fd",
   "metadata": {},
   "outputs": [
    {
     "data": {
      "text/plain": [
       "True"
      ]
     },
     "execution_count": 27,
     "metadata": {},
     "output_type": "execute_result"
    }
   ],
   "source": [
    "bool(1)"
   ]
  },
  {
   "cell_type": "code",
   "execution_count": 28,
   "id": "18fac90e-1f0d-4e67-a40e-276e90b47ac4",
   "metadata": {},
   "outputs": [
    {
     "data": {
      "text/plain": [
       "False"
      ]
     },
     "execution_count": 28,
     "metadata": {},
     "output_type": "execute_result"
    }
   ],
   "source": [
    "bool(0)"
   ]
  },
  {
   "cell_type": "code",
   "execution_count": 29,
   "id": "5a571bd1-24ec-4a2f-8655-0565a9090f6f",
   "metadata": {},
   "outputs": [
    {
     "data": {
      "text/plain": [
       "True"
      ]
     },
     "execution_count": 29,
     "metadata": {},
     "output_type": "execute_result"
    }
   ],
   "source": [
    "\n",
    "bool(-1)"
   ]
  },
  {
   "cell_type": "code",
   "execution_count": 30,
   "id": "11de1989-c45c-4000-8811-808717d29f93",
   "metadata": {},
   "outputs": [
    {
     "data": {
      "text/plain": [
       "True"
      ]
     },
     "execution_count": 30,
     "metadata": {},
     "output_type": "execute_result"
    }
   ],
   "source": [
    "bool(1j)"
   ]
  },
  {
   "cell_type": "code",
   "execution_count": 31,
   "id": "1cad43b1-b5c8-4369-af67-57241277f1d9",
   "metadata": {},
   "outputs": [
    {
     "data": {
      "text/plain": [
       "False"
      ]
     },
     "execution_count": 31,
     "metadata": {},
     "output_type": "execute_result"
    }
   ],
   "source": [
    "bool(0j)"
   ]
  },
  {
   "cell_type": "code",
   "execution_count": 32,
   "id": "f03a9d61-28f3-4a10-9499-190f2e37117b",
   "metadata": {},
   "outputs": [
    {
     "data": {
      "text/plain": [
       "False"
      ]
     },
     "execution_count": 32,
     "metadata": {},
     "output_type": "execute_result"
    }
   ],
   "source": [
    "bool(0.0)"
   ]
  },
  {
   "cell_type": "code",
   "execution_count": 33,
   "id": "9000c2f3-68f2-4951-9786-a229464b4cce",
   "metadata": {},
   "outputs": [
    {
     "data": {
      "text/plain": [
       "True"
      ]
     },
     "execution_count": 33,
     "metadata": {},
     "output_type": "execute_result"
    }
   ],
   "source": [
    "bool('True')"
   ]
  },
  {
   "cell_type": "code",
   "execution_count": 34,
   "id": "8a58b45a-23eb-48a1-9adf-9b94d17d4887",
   "metadata": {},
   "outputs": [
    {
     "data": {
      "text/plain": [
       "True"
      ]
     },
     "execution_count": 34,
     "metadata": {},
     "output_type": "execute_result"
    }
   ],
   "source": [
    "bool('False')"
   ]
  },
  {
   "cell_type": "code",
   "execution_count": 35,
   "id": "6a92a82b-3d46-4db9-b234-8517aed99f3f",
   "metadata": {},
   "outputs": [
    {
     "data": {
      "text/plain": [
       "False"
      ]
     },
     "execution_count": 35,
     "metadata": {},
     "output_type": "execute_result"
    }
   ],
   "source": [
    "bool([])"
   ]
  },
  {
   "cell_type": "code",
   "execution_count": 36,
   "id": "a4208bce-19d2-41b1-8aa9-2e377da40e60",
   "metadata": {},
   "outputs": [
    {
     "data": {
      "text/plain": [
       "False"
      ]
     },
     "execution_count": 36,
     "metadata": {},
     "output_type": "execute_result"
    }
   ],
   "source": [
    "bool(None)"
   ]
  },
  {
   "cell_type": "markdown",
   "id": "3258b200-08a7-4844-afca-cf04bf722f65",
   "metadata": {},
   "source": [
    "## Strings"
   ]
  },
  {
   "cell_type": "code",
   "execution_count": 37,
   "id": "3ee27ad4-5ec5-408c-ae2f-75c0f3fc28de",
   "metadata": {},
   "outputs": [
    {
     "data": {
      "text/plain": [
       "'M'"
      ]
     },
     "execution_count": 37,
     "metadata": {},
     "output_type": "execute_result"
    }
   ],
   "source": [
    "name = \"My name is Kiran\"\n",
    "name[0]"
   ]
  },
  {
   "cell_type": "code",
   "execution_count": 38,
   "id": "ce35ca86-d459-43f9-b283-d318247c0720",
   "metadata": {},
   "outputs": [
    {
     "data": {
      "text/plain": [
       "'y'"
      ]
     },
     "execution_count": 38,
     "metadata": {},
     "output_type": "execute_result"
    }
   ],
   "source": [
    "name[1]"
   ]
  },
  {
   "cell_type": "code",
   "execution_count": 39,
   "id": "60d2a3cb-ab48-46a7-8558-9136009929c7",
   "metadata": {},
   "outputs": [
    {
     "data": {
      "text/plain": [
       "'My name'"
      ]
     },
     "execution_count": 39,
     "metadata": {},
     "output_type": "execute_result"
    }
   ],
   "source": [
    "name[0:7]"
   ]
  },
  {
   "cell_type": "code",
   "execution_count": 40,
   "id": "a1fbaedb-9ba2-4001-9455-85f66410dd39",
   "metadata": {},
   "outputs": [
    {
     "data": {
      "text/plain": [
       "'My name'"
      ]
     },
     "execution_count": 40,
     "metadata": {},
     "output_type": "execute_result"
    }
   ],
   "source": [
    "name[:7]"
   ]
  },
  {
   "cell_type": "code",
   "execution_count": 41,
   "id": "395a9b4a-c54e-4fe4-980f-3ff2934c1cdc",
   "metadata": {},
   "outputs": [
    {
     "data": {
      "text/plain": [
       "'name is Kiran'"
      ]
     },
     "execution_count": 41,
     "metadata": {},
     "output_type": "execute_result"
    }
   ],
   "source": [
    "name [3:]\n"
   ]
  },
  {
   "cell_type": "code",
   "execution_count": 42,
   "id": "a3a4f6a6-a8b7-4d92-a74b-0753622df07a",
   "metadata": {},
   "outputs": [
    {
     "data": {
      "text/plain": [
       "16"
      ]
     },
     "execution_count": 42,
     "metadata": {},
     "output_type": "execute_result"
    }
   ],
   "source": [
    "len(name)"
   ]
  },
  {
   "cell_type": "code",
   "execution_count": 43,
   "id": "a2e802aa-e204-43eb-9a5f-9480c7c766ae",
   "metadata": {},
   "outputs": [
    {
     "data": {
      "text/plain": [
       "'My number is : 5'"
      ]
     },
     "execution_count": 43,
     "metadata": {},
     "output_type": "execute_result"
    }
   ],
   "source": [
    "'My number is : ' + str(5)"
   ]
  },
  {
   "cell_type": "code",
   "execution_count": 44,
   "id": "ea642721-3c8d-44f0-9781-ad907c1f47b8",
   "metadata": {},
   "outputs": [
    {
     "data": {
      "text/plain": [
       "'My number is : (5)'"
      ]
     },
     "execution_count": 44,
     "metadata": {},
     "output_type": "execute_result"
    }
   ],
   "source": [
    "f'My number is : (5)'"
   ]
  },
  {
   "cell_type": "code",
   "execution_count": 45,
   "id": "a5076d5c-72a7-4562-af92-8198f6ee9c13",
   "metadata": {},
   "outputs": [
    {
     "data": {
      "text/plain": [
       "'My number is : 5'"
      ]
     },
     "execution_count": 45,
     "metadata": {},
     "output_type": "execute_result"
    }
   ],
   "source": [
    "f'My number is : {5}'"
   ]
  },
  {
   "cell_type": "code",
   "execution_count": 46,
   "id": "4539cd7d-c40a-44c1-805b-9396c02d1f35",
   "metadata": {},
   "outputs": [
    {
     "data": {
      "text/plain": [
       "'My number is : 10'"
      ]
     },
     "execution_count": 46,
     "metadata": {},
     "output_type": "execute_result"
    }
   ],
   "source": [
    "f'My number is : {5*2}'"
   ]
  },
  {
   "cell_type": "code",
   "execution_count": 50,
   "id": "1c5c4c81-2bf2-4cb0-84e0-d8cec576afa3",
   "metadata": {},
   "outputs": [
    {
     "data": {
      "text/plain": [
       "'Pi is : {math.pi:.2f}'"
      ]
     },
     "execution_count": 50,
     "metadata": {},
     "output_type": "execute_result"
    }
   ],
   "source": [
    " import math \n",
    "'Pi is : {math.pi:.2f}'"
   ]
  },
  {
   "cell_type": "code",
   "execution_count": 51,
   "id": "943e9bb6-73df-4553-a369-381ba8158aab",
   "metadata": {},
   "outputs": [
    {
     "data": {
      "text/plain": [
       "'Pi is : 3.14'"
      ]
     },
     "execution_count": 51,
     "metadata": {},
     "output_type": "execute_result"
    }
   ],
   "source": [
    "import math \n",
    "f'Pi is : {math.pi:.2f}'"
   ]
  },
  {
   "cell_type": "markdown",
   "id": "28e110ef-b09e-4fe7-b2e8-8fa0e11577fa",
   "metadata": {},
   "source": [
    " ## multistring"
   ]
  },
  {
   "cell_type": "code",
   "execution_count": 58,
   "id": "64e94bbb-c491-4450-829f-61cc2bd36aeb",
   "metadata": {},
   "outputs": [],
   "source": [
    "mystring = ''' I can do all things\n",
    "through god who \n",
    "strengthens me '''\n"
   ]
  },
  {
   "cell_type": "code",
   "execution_count": 59,
   "id": "0a12d0c4-7655-4d7a-a576-f83238f07db1",
   "metadata": {},
   "outputs": [
    {
     "data": {
      "text/plain": [
       "' I can do all things\\nthrough god who \\nstrengthens me '"
      ]
     },
     "execution_count": 59,
     "metadata": {},
     "output_type": "execute_result"
    }
   ],
   "source": [
    "mystring"
   ]
  },
  {
   "cell_type": "code",
   "execution_count": 60,
   "id": "e7621d56-acd9-44af-ac92-ec19ae8c71ed",
   "metadata": {},
   "outputs": [
    {
     "name": "stdout",
     "output_type": "stream",
     "text": [
      " I can do all things\n",
      "through god who \n",
      "strengthens me \n"
     ]
    }
   ],
   "source": [
    "print(mystring)\n"
   ]
  },
  {
   "cell_type": "markdown",
   "id": "1f65474e-45c8-49c4-b1c6-f2dd62310b20",
   "metadata": {},
   "source": [
    "## Bytes"
   ]
  },
  {
   "cell_type": "code",
   "execution_count": 61,
   "id": "64f69aae-0f94-469c-82e3-48807310647b",
   "metadata": {},
   "outputs": [
    {
     "data": {
      "text/plain": [
       "b'\\x00\\x00\\x00\\x00'"
      ]
     },
     "execution_count": 61,
     "metadata": {},
     "output_type": "execute_result"
    }
   ],
   "source": [
    "bytes(4)"
   ]
  },
  {
   "cell_type": "code",
   "execution_count": 63,
   "id": "381f1393-46e8-41a8-b4ce-5f0170f52156",
   "metadata": {},
   "outputs": [
    {
     "data": {
      "text/plain": [
       "b'\\xf0\\x9f\\x98\\x8a'"
      ]
     },
     "execution_count": 63,
     "metadata": {},
     "output_type": "execute_result"
    }
   ],
   "source": [
    "smileyBytes = bytes('😊','utf-8')\n",
    "smileyBytes"
   ]
  },
  {
   "cell_type": "code",
   "execution_count": 64,
   "id": "cd7a38f0-a9d3-493a-b292-334bf72e170e",
   "metadata": {},
   "outputs": [
    {
     "data": {
      "text/plain": [
       "'😊'"
      ]
     },
     "execution_count": 64,
     "metadata": {},
     "output_type": "execute_result"
    }
   ],
   "source": [
    "smileyBytes.decode('utf-8')"
   ]
  },
  {
   "cell_type": "code",
   "execution_count": 66,
   "id": "9f8fe0f7-9b53-4de7-a74a-fdfe5c95c6d3",
   "metadata": {},
   "outputs": [
    {
     "data": {
      "text/plain": [
       "bytearray(b'\\xf0\\x9f\\x98\\x8a')"
      ]
     },
     "execution_count": 66,
     "metadata": {},
     "output_type": "execute_result"
    }
   ],
   "source": [
    "smileyBytes=bytearray('😊','utf-8')\n",
    "smileyBytes"
   ]
  },
  {
   "cell_type": "code",
   "execution_count": 67,
   "id": "7c5f677d-9621-4ddb-b53c-d62ca2aa559a",
   "metadata": {},
   "outputs": [
    {
     "data": {
      "text/plain": [
       "bytearray(b'\\xf0\\x9f\\x98\\x85')"
      ]
     },
     "execution_count": 67,
     "metadata": {},
     "output_type": "execute_result"
    }
   ],
   "source": [
    "smileyBytes[3]=int('85',16)\n",
    "smileyBytes"
   ]
  },
  {
   "cell_type": "code",
   "execution_count": 68,
   "id": "f6885b91-6a3e-4da4-bb02-9a9f280af870",
   "metadata": {},
   "outputs": [
    {
     "data": {
      "text/plain": [
       "'😅'"
      ]
     },
     "execution_count": 68,
     "metadata": {},
     "output_type": "execute_result"
    }
   ],
   "source": [
    "smileyBytes.decode('utf-8')"
   ]
  },
  {
   "cell_type": "code",
   "execution_count": null,
   "id": "8a3eb638-6178-4f1c-8896-3e574161b768",
   "metadata": {},
   "outputs": [],
   "source": []
  },
  {
   "cell_type": "code",
   "execution_count": null,
   "id": "11fd3787-0e25-4ef8-8156-11f7d0d21681",
   "metadata": {},
   "outputs": [],
   "source": []
  }
 ],
 "metadata": {
  "kernelspec": {
   "display_name": "Python 3 (ipykernel)",
   "language": "python",
   "name": "python3"
  },
  "language_info": {
   "codemirror_mode": {
    "name": "ipython",
    "version": 3
   },
   "file_extension": ".py",
   "mimetype": "text/x-python",
   "name": "python",
   "nbconvert_exporter": "python",
   "pygments_lexer": "ipython3",
   "version": "3.10.0"
  }
 },
 "nbformat": 4,
 "nbformat_minor": 5
}
