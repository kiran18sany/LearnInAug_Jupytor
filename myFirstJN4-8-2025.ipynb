{
 "cells": [
  {
   "cell_type": "code",
   "execution_count": 6,
   "id": "f4dd538c-022b-4ef8-b6c1-4981895f341e",
   "metadata": {},
   "outputs": [
    {
     "name": "stdout",
     "output_type": "stream",
     "text": [
      "Praise the Lord\n"
     ]
    }
   ],
   "source": [
    "print(\"Praise the Lord\")"
   ]
  },
  {
   "cell_type": "code",
   "execution_count": 7,
   "id": "6dd41ee6-b96f-417a-b9c6-21e46dda3a02",
   "metadata": {},
   "outputs": [
    {
     "data": {
      "text/plain": [
       "2"
      ]
     },
     "execution_count": 7,
     "metadata": {},
     "output_type": "execute_result"
    }
   ],
   "source": [
    "1+1"
   ]
  },
  {
   "cell_type": "code",
   "execution_count": 9,
   "id": "7eb9c088-613b-4a5a-9cdc-e8174fd01779",
   "metadata": {},
   "outputs": [],
   "source": [
    "#title\n",
    "##small title "
   ]
  },
  {
   "cell_type": "markdown",
   "id": "41906851-93f4-4a6c-9a08-42f9e0bddb12",
   "metadata": {},
   "source": [
    "# title\n"
   ]
  },
  {
   "cell_type": "markdown",
   "id": "a86566d8-2f0e-4ea9-a04a-5369cfb70bfe",
   "metadata": {},
   "source": [
    "## title"
   ]
  },
  {
   "cell_type": "markdown",
   "id": "acd7b5ef-3b88-4032-8c3a-8316e62a8f52",
   "metadata": {},
   "source": [
    "## title"
   ]
  },
  {
   "cell_type": "markdown",
   "id": "81ff1b61-3a58-4599-857e-2ed06d0963af",
   "metadata": {},
   "source": [
    "\\begin{equation}\n",
    "e^x=\\sum_{i=0}^\\infty \\frac{1}{i!}x^i\n",
    "\\end{equation}  "
   ]
  },
  {
   "cell_type": "markdown",
   "id": "81e94213-b857-411f-97d5-3f7f06f5c8ad",
   "metadata": {},
   "source": [
    "## List"
   ]
  },
  {
   "cell_type": "code",
   "execution_count": 12,
   "id": "ab0ececf-c3be-4fc8-8141-b2b4e69f69c3",
   "metadata": {},
   "outputs": [],
   "source": [
    "my_list=[1,2,3]"
   ]
  },
  {
   "cell_type": "code",
   "execution_count": 13,
   "id": "a9d37c2b-7aec-4ee0-a6fd-266d214dacb3",
   "metadata": {},
   "outputs": [
    {
     "name": "stdout",
     "output_type": "stream",
     "text": [
      "[1, 2, 3]\n"
     ]
    }
   ],
   "source": [
    "print(my_list)"
   ]
  },
  {
   "cell_type": "code",
   "execution_count": 22,
   "id": "8d6e05ad-cb87-4e57-aefc-c0f430144a8b",
   "metadata": {},
   "outputs": [
    {
     "name": "stdout",
     "output_type": "stream",
     "text": [
      "[[1, 2, 3], [True, False], ['a', 'b']]\n"
     ]
    }
   ],
   "source": [
    "my_list=[[1,2,3],[True,False],[\"a\",\"b\"]]\n",
    "print(my_list)"
   ]
  },
  {
   "cell_type": "code",
   "execution_count": 15,
   "id": "ff39bc22-7787-43c0-8012-7c41ce94288b",
   "metadata": {},
   "outputs": [
    {
     "name": "stdout",
     "output_type": "stream",
     "text": [
      "[[1, 2, 3], [True, False], ['a', 'b']]\n"
     ]
    }
   ],
   "source": [
    "my_list=[[1,2,3],[True,False],[\"a\",\"b\"]]\n",
    "print(my_list)"
   ]
  },
  {
   "cell_type": "markdown",
   "id": "f56a8a26-0ef9-4d28-884b-a885b2a6d0b1",
   "metadata": {},
   "source": [
    "## Set"
   ]
  },
  {
   "cell_type": "code",
   "execution_count": 16,
   "id": "85863583-c171-4970-a16d-813b23024b75",
   "metadata": {},
   "outputs": [
    {
     "name": "stdout",
     "output_type": "stream",
     "text": [
      "{1, 2, 3}\n"
     ]
    }
   ],
   "source": [
    "my_set={1,2,3}\n",
    "print(my_set)"
   ]
  },
  {
   "cell_type": "code",
   "execution_count": 17,
   "id": "56dbc336-4bad-4de1-8aff-8bde973f48f5",
   "metadata": {},
   "outputs": [
    {
     "data": {
      "text/plain": [
       "set"
      ]
     },
     "execution_count": 17,
     "metadata": {},
     "output_type": "execute_result"
    }
   ],
   "source": [
    "type(my_set)"
   ]
  },
  {
   "cell_type": "code",
   "execution_count": 18,
   "id": "467a4e6e-dba9-4270-a80d-dd4e7759e2f7",
   "metadata": {},
   "outputs": [
    {
     "data": {
      "text/plain": [
       "3"
      ]
     },
     "execution_count": 18,
     "metadata": {},
     "output_type": "execute_result"
    }
   ],
   "source": [
    "len(my_set)"
   ]
  },
  {
   "cell_type": "code",
   "execution_count": 19,
   "id": "394e9379-13fd-41af-a23f-70a7227b768a",
   "metadata": {},
   "outputs": [
    {
     "name": "stdout",
     "output_type": "stream",
     "text": [
      "{1, 2}\n"
     ]
    }
   ],
   "source": [
    "my_set={1,1,2,2}\n",
    "print(my_set)"
   ]
  },
  {
   "cell_type": "code",
   "execution_count": 20,
   "id": "debc8e44-438b-47e7-9bda-1b5ecdd028f7",
   "metadata": {},
   "outputs": [
    {
     "data": {
      "text/plain": [
       "2"
      ]
     },
     "execution_count": 20,
     "metadata": {},
     "output_type": "execute_result"
    }
   ],
   "source": [
    "len(my_set)"
   ]
  },
  {
   "cell_type": "code",
   "execution_count": 21,
   "id": "3bdb7bac-4558-4845-b0b6-75a905bb7be3",
   "metadata": {},
   "outputs": [
    {
     "data": {
      "text/plain": [
       "True"
      ]
     },
     "execution_count": 21,
     "metadata": {},
     "output_type": "execute_result"
    }
   ],
   "source": [
    "{1,2}=={2,1}"
   ]
  },
  {
   "cell_type": "markdown",
   "id": "c9435831-122e-4830-9b6d-798bcadd3adb",
   "metadata": {},
   "source": [
    "##  Tuple"
   ]
  },
  {
   "cell_type": "code",
   "execution_count": 25,
   "id": "95f03ad8-d433-42c7-8c43-78c8835f988d",
   "metadata": {},
   "outputs": [],
   "source": [
    "my_tuple=(1,2,3)"
   ]
  },
  {
   "cell_type": "code",
   "execution_count": 26,
   "id": "67065253-9061-43fa-8c2d-4c6c902199f2",
   "metadata": {},
   "outputs": [
    {
     "data": {
      "text/plain": [
       "3"
      ]
     },
     "execution_count": 26,
     "metadata": {},
     "output_type": "execute_result"
    }
   ],
   "source": [
    "len(my_tuple)"
   ]
  },
  {
   "cell_type": "code",
   "execution_count": 27,
   "id": "21e7563c-86db-4253-a456-540f41ca400f",
   "metadata": {},
   "outputs": [
    {
     "name": "stdout",
     "output_type": "stream",
     "text": [
      "[[1, 2, 3], [True, False], ['a', 'b'], 4]\n"
     ]
    }
   ],
   "source": [
    "my_list.append(4)\n",
    "print(my_list)"
   ]
  },
  {
   "cell_type": "code",
   "execution_count": 28,
   "id": "19a9078f-9a58-491f-8ea0-dd54e4de5d3b",
   "metadata": {},
   "outputs": [
    {
     "ename": "AttributeError",
     "evalue": "'tuple' object has no attribute 'append'",
     "output_type": "error",
     "traceback": [
      "\u001b[1;31m---------------------------------------------------------------------------\u001b[0m",
      "\u001b[1;31mAttributeError\u001b[0m                            Traceback (most recent call last)",
      "Cell \u001b[1;32mIn[28], line 1\u001b[0m\n\u001b[1;32m----> 1\u001b[0m \u001b[43mmy_tuple\u001b[49m\u001b[38;5;241;43m.\u001b[39;49m\u001b[43mappend\u001b[49m(\u001b[38;5;241m4\u001b[39m)\n\u001b[0;32m      2\u001b[0m \u001b[38;5;28mprint\u001b[39m(my_tuple)\n",
      "\u001b[1;31mAttributeError\u001b[0m: 'tuple' object has no attribute 'append'"
     ]
    }
   ],
   "source": [
    "my_tuple.append(4)\n",
    "print(my_tuple)"
   ]
  },
  {
   "cell_type": "code",
   "execution_count": 29,
   "id": "3d00fdae-12a4-4c50-8620-c6e71dd0ea71",
   "metadata": {},
   "outputs": [
    {
     "name": "stdout",
     "output_type": "stream",
     "text": [
      "{'apple': 'A red Fruit', 'bear': 'A scary Animal'}\n"
     ]
    }
   ],
   "source": [
    "my_dictionary = { 'apple':'A red Fruit', 'bear':'A scary Animal' }\n",
    "print(my_dictionary)"
   ]
  },
  {
   "cell_type": "code",
   "execution_count": 30,
   "id": "2aed07b9-37d0-4e55-8f70-5d4fc16b8b82",
   "metadata": {},
   "outputs": [
    {
     "data": {
      "text/plain": [
       "'A red Fruit'"
      ]
     },
     "execution_count": 30,
     "metadata": {},
     "output_type": "execute_result"
    }
   ],
   "source": [
    "my_dictionary['apple']"
   ]
  },
  {
   "cell_type": "code",
   "execution_count": 31,
   "id": "81ee0aac-afca-409f-b8f7-a77c01a969be",
   "metadata": {},
   "outputs": [
    {
     "data": {
      "text/plain": [
       "3"
      ]
     },
     "execution_count": 31,
     "metadata": {},
     "output_type": "execute_result"
    }
   ],
   "source": [
    "1+2"
   ]
  },
  {
   "cell_type": "code",
   "execution_count": 32,
   "id": "e6c5b6d2-6df1-4af9-bf2b-79b24374dcb4",
   "metadata": {},
   "outputs": [
    {
     "data": {
      "text/plain": [
       "20"
      ]
     },
     "execution_count": 32,
     "metadata": {},
     "output_type": "execute_result"
    }
   ],
   "source": [
    "4*5"
   ]
  },
  {
   "cell_type": "code",
   "execution_count": 33,
   "id": "6ebd778d-41e1-4048-9f01-14ae779112bf",
   "metadata": {},
   "outputs": [
    {
     "data": {
      "text/plain": [
       "36"
      ]
     },
     "execution_count": 33,
     "metadata": {},
     "output_type": "execute_result"
    }
   ],
   "source": [
    "6**2"
   ]
  },
  {
   "cell_type": "code",
   "execution_count": 34,
   "id": "2f28ae72-aefc-42ed-9b47-f0611cc9bb8e",
   "metadata": {},
   "outputs": [
    {
     "data": {
      "text/plain": [
       "256"
      ]
     },
     "execution_count": 34,
     "metadata": {},
     "output_type": "execute_result"
    }
   ],
   "source": [
    "2**8\n"
   ]
  },
  {
   "cell_type": "code",
   "execution_count": 35,
   "id": "39ea266e-bd06-4d33-a92d-579251f9380d",
   "metadata": {},
   "outputs": [
    {
     "data": {
      "text/plain": [
       "4.0"
      ]
     },
     "execution_count": 35,
     "metadata": {},
     "output_type": "execute_result"
    }
   ],
   "source": [
    "20/5"
   ]
  },
  {
   "cell_type": "code",
   "execution_count": 36,
   "id": "15f4382c-940b-416e-b768-698ea9f029d0",
   "metadata": {},
   "outputs": [
    {
     "data": {
      "text/plain": [
       "2"
      ]
     },
     "execution_count": 36,
     "metadata": {},
     "output_type": "execute_result"
    }
   ],
   "source": [
    "20%6"
   ]
  },
  {
   "cell_type": "code",
   "execution_count": null,
   "id": "e53b9f15-188c-457b-af5c-57eb211c7883",
   "metadata": {},
   "outputs": [],
   "source": []
  }
 ],
 "metadata": {
  "kernelspec": {
   "display_name": "Python 3 (ipykernel)",
   "language": "python",
   "name": "python3"
  },
  "language_info": {
   "codemirror_mode": {
    "name": "ipython",
    "version": 3
   },
   "file_extension": ".py",
   "mimetype": "text/x-python",
   "name": "python",
   "nbconvert_exporter": "python",
   "pygments_lexer": "ipython3",
   "version": "3.10.0"
  }
 },
 "nbformat": 4,
 "nbformat_minor": 5
}
