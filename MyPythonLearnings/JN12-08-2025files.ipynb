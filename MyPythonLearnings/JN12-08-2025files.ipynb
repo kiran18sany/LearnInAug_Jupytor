{
 "cells": [
  {
   "cell_type": "markdown",
   "id": "348c3655-9d86-4400-8d32-64aac30f707a",
   "metadata": {},
   "source": [
    "## Files"
   ]
  },
  {
   "cell_type": "markdown",
   "id": "80fa4288-b4d7-4886-b184-6b21e9511738",
   "metadata": {},
   "source": [
    "## Reading Files "
   ]
  },
  {
   "cell_type": "code",
   "execution_count": 1,
   "id": "d0d204eb-e3d3-4763-93d2-2b53b10050c1",
   "metadata": {},
   "outputs": [
    {
     "name": "stdout",
     "output_type": "stream",
     "text": [
      "<_io.TextIOWrapper name='C:\\\\J_KIRAN\\\\MyFile.txt' mode='r' encoding='cp1252'>\n"
     ]
    }
   ],
   "source": [
    "f=open('C:\\J_KIRAN\\MyFile.txt','r')\n",
    "print(f)\n"
   ]
  },
  {
   "cell_type": "code",
   "execution_count": 2,
   "id": "ba08506e-ca98-4ca1-a01a-2b35195ed57f",
   "metadata": {},
   "outputs": [
    {
     "data": {
      "text/plain": [
       "'I can do all things through God who strengthens me. phlip 4:13'"
      ]
     },
     "execution_count": 2,
     "metadata": {},
     "output_type": "execute_result"
    }
   ],
   "source": [
    "f.readline()"
   ]
  },
  {
   "cell_type": "code",
   "execution_count": 3,
   "id": "7181da60-99e1-4400-ad14-5fc79df333b1",
   "metadata": {},
   "outputs": [
    {
     "data": {
      "text/plain": [
       "['\\n',\n",
       " '\\n',\n",
       " '13 If I speak in the tongues[a] of men or of angels, but do not have love, I am only a resounding gong or a clanging cymbal. 2 If I have the gift of prophecy and can fathom all mysteries and all knowledge, and if I have a faith that can move mountains, but do not have love, I am nothing. 3 If I give all I possess to the poor and give over my body to hardship that I may boast,[b] but do not have love, I gain nothing.\\n',\n",
       " '\\n',\n",
       " '4 Love is patient, love is kind. It does not envy, it does not boast, it is not proud. 5 It does not dishonor others, it is not self-seeking, it is not easily angered, it keeps no record of wrongs. 6 Love does not delight in evil but rejoices with the truth. 7 It always protects, always trusts, always hopes, always perseveres.\\n',\n",
       " '\\n',\n",
       " '8 Love never fails. But where there are prophecies, they will cease; where there are tongues, they will be stilled; where there is knowledge, it will pass away. 9 For we know in part and we prophesy in part, 10 but when completeness comes, what is in part disappears. 11 When I was a child, I talked like a child, I thought like a child, I reasoned like a child. When I became a man, I put the ways of childhood behind me. 12 For now we see only a reflection as in a mirror; then we shall see face to face. Now I know in part; then I shall know fully, even as I am fully known.\\n',\n",
       " '\\n',\n",
       " '13 And now these three remain: faith, hope and love. But the greatest of these is love.']"
      ]
     },
     "execution_count": 3,
     "metadata": {},
     "output_type": "execute_result"
    }
   ],
   "source": [
    "f.readlines()"
   ]
  },
  {
   "cell_type": "code",
   "execution_count": 4,
   "id": "6dda3768-3f33-4887-8d73-b5ff0e55c1e6",
   "metadata": {},
   "outputs": [
    {
     "name": "stdout",
     "output_type": "stream",
     "text": [
      "I can do all things through God who strengthens me. phlip 4:13\n",
      "\n",
      "\n",
      "\n",
      "13 If I speak in the tongues[a] of men or of angels, but do not have love, I am only a resounding gong or a clanging cymbal. 2 If I have the gift of prophecy and can fathom all mysteries and all knowledge, and if I have a faith that can move mountains, but do not have love, I am nothing. 3 If I give all I possess to the poor and give over my body to hardship that I may boast,[b] but do not have love, I gain nothing.\n",
      "\n",
      "\n",
      "\n",
      "4 Love is patient, love is kind. It does not envy, it does not boast, it is not proud. 5 It does not dishonor others, it is not self-seeking, it is not easily angered, it keeps no record of wrongs. 6 Love does not delight in evil but rejoices with the truth. 7 It always protects, always trusts, always hopes, always perseveres.\n",
      "\n",
      "\n",
      "\n",
      "8 Love never fails. But where there are prophecies, they will cease; where there are tongues, they will be stilled; where there is knowledge, it will pass away. 9 For we know in part and we prophesy in part, 10 but when completeness comes, what is in part disappears. 11 When I was a child, I talked like a child, I thought like a child, I reasoned like a child. When I became a man, I put the ways of childhood behind me. 12 For now we see only a reflection as in a mirror; then we shall see face to face. Now I know in part; then I shall know fully, even as I am fully known.\n",
      "\n",
      "\n",
      "\n",
      "13 And now these three remain: faith, hope and love. But the greatest of these is love.\n"
     ]
    }
   ],
   "source": [
    "f=open('C:\\J_KIRAN\\MyFile.txt','r')\n",
    "for line in f.readlines():    \n",
    "    print(line)"
   ]
  },
  {
   "cell_type": "code",
   "execution_count": 5,
   "id": "634ddf42-5bb8-4229-9d42-e7412f3bb37d",
   "metadata": {},
   "outputs": [
    {
     "name": "stdout",
     "output_type": "stream",
     "text": [
      "I can do all things through God who strengthens me. phlip 4:13\n",
      "\n",
      "13 If I speak in the tongues[a] of men or of angels, but do not have love, I am only a resounding gong or a clanging cymbal. 2 If I have the gift of prophecy and can fathom all mysteries and all knowledge, and if I have a faith that can move mountains, but do not have love, I am nothing. 3 If I give all I possess to the poor and give over my body to hardship that I may boast,[b] but do not have love, I gain nothing.\n",
      "\n",
      "4 Love is patient, love is kind. It does not envy, it does not boast, it is not proud. 5 It does not dishonor others, it is not self-seeking, it is not easily angered, it keeps no record of wrongs. 6 Love does not delight in evil but rejoices with the truth. 7 It always protects, always trusts, always hopes, always perseveres.\n",
      "\n",
      "8 Love never fails. But where there are prophecies, they will cease; where there are tongues, they will be stilled; where there is knowledge, it will pass away. 9 For we know in part and we prophesy in part, 10 but when completeness comes, what is in part disappears. 11 When I was a child, I talked like a child, I thought like a child, I reasoned like a child. When I became a man, I put the ways of childhood behind me. 12 For now we see only a reflection as in a mirror; then we shall see face to face. Now I know in part; then I shall know fully, even as I am fully known.\n",
      "\n",
      "13 And now these three remain: faith, hope and love. But the greatest of these is love.\n"
     ]
    }
   ],
   "source": [
    "f=open('C:\\J_KIRAN\\MyFile.txt','r')\n",
    "for line in f.readlines():    \n",
    "    print(line.strip())"
   ]
  },
  {
   "cell_type": "markdown",
   "id": "3d9386f2-b45f-45bb-8160-5ec205c75284",
   "metadata": {},
   "source": [
    "## Writing Files"
   ]
  },
  {
   "cell_type": "code",
   "execution_count": 21,
   "id": "76c2969f-ae16-4117-a79f-29f3a465afa6",
   "metadata": {},
   "outputs": [
    {
     "name": "stdout",
     "output_type": "stream",
     "text": [
      "<_io.TextIOWrapper name='C:\\\\J_KIRAN\\\\MyFile1.txt' mode='w' encoding='cp1252'>\n"
     ]
    }
   ],
   "source": [
    "f=open('C:\\J_KIRAN\\MyFile1.txt','w')\n",
    "print(f)\n",
    "f.write('Line 1\\n')\n",
    "f.write('Line 2\\n')\n",
    "f.close()"
   ]
  },
  {
   "cell_type": "code",
   "execution_count": 20,
   "id": "10f5271c-4d75-4851-9bae-f360952b2fde",
   "metadata": {},
   "outputs": [
    {
     "ename": "ValueError",
     "evalue": "I/O operation on closed file.",
     "output_type": "error",
     "traceback": [
      "\u001b[1;31m---------------------------------------------------------------------------\u001b[0m",
      "\u001b[1;31mValueError\u001b[0m                                Traceback (most recent call last)",
      "Cell \u001b[1;32mIn[20], line 1\u001b[0m\n\u001b[1;32m----> 1\u001b[0m \u001b[43mf\u001b[49m\u001b[38;5;241;43m.\u001b[39;49m\u001b[43mwrite\u001b[49m\u001b[43m(\u001b[49m\u001b[38;5;124;43m'\u001b[39;49m\u001b[38;5;124;43mLine 1\u001b[39;49m\u001b[38;5;130;43;01m\\n\u001b[39;49;00m\u001b[38;5;124;43m'\u001b[39;49m\u001b[43m)\u001b[49m\n\u001b[0;32m      2\u001b[0m f\u001b[38;5;241m.\u001b[39mwrite(\u001b[38;5;124m'\u001b[39m\u001b[38;5;124mLine 2\u001b[39m\u001b[38;5;130;01m\\n\u001b[39;00m\u001b[38;5;124m'\u001b[39m)\n\u001b[0;32m      3\u001b[0m f\u001b[38;5;241m.\u001b[39mclose()\n",
      "\u001b[1;31mValueError\u001b[0m: I/O operation on closed file."
     ]
    }
   ],
   "source": [
    "f.write('Line 1\\n')\n",
    "f.write('Line 2\\n')\n",
    "f.close()"
   ]
  },
  {
   "cell_type": "code",
   "execution_count": 17,
   "id": "f63f9c8a-f524-49c8-8eb1-d88bcf1574ee",
   "metadata": {},
   "outputs": [],
   "source": [
    "f.close()"
   ]
  },
  {
   "cell_type": "markdown",
   "id": "411bed57-0d58-4468-b53c-4de78232ad2d",
   "metadata": {},
   "source": [
    "## Append Files"
   ]
  },
  {
   "cell_type": "code",
   "execution_count": 22,
   "id": "a2a29c2f-fcce-41d2-a4c3-9cf5409a0832",
   "metadata": {},
   "outputs": [],
   "source": [
    "f=open('C:\\J_KIRAN\\MyFile1.txt','a')\n",
    "f.write('Line 3\\n')\n",
    "f.write('Line 4\\n')\n",
    "f.close()"
   ]
  },
  {
   "cell_type": "code",
   "execution_count": null,
   "id": "166a8875-7742-42ec-a70c-405f8fc8c32e",
   "metadata": {},
   "outputs": [],
   "source": []
  }
 ],
 "metadata": {
  "kernelspec": {
   "display_name": "Python 3 (ipykernel)",
   "language": "python",
   "name": "python3"
  },
  "language_info": {
   "codemirror_mode": {
    "name": "ipython",
    "version": 3
   },
   "file_extension": ".py",
   "mimetype": "text/x-python",
   "name": "python",
   "nbconvert_exporter": "python",
   "pygments_lexer": "ipython3",
   "version": "3.10.0"
  }
 },
 "nbformat": 4,
 "nbformat_minor": 5
}
