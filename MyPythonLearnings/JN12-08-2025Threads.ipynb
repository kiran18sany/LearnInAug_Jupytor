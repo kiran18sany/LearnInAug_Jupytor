{
 "cells": [
  {
   "cell_type": "code",
   "execution_count": 1,
   "id": "6e61721e-ec9f-4aa6-afaf-8b3b7455ace1",
   "metadata": {},
   "outputs": [],
   "source": [
    "import threading\n",
    "import time"
   ]
  },
  {
   "cell_type": "markdown",
   "id": "187f4f49-b395-4ecb-bd3c-7751a3183a6e",
   "metadata": {},
   "source": [
    "## Threads"
   ]
  },
  {
   "cell_type": "code",
   "execution_count": 2,
   "id": "27b8aa41-87d3-400d-8621-bec655dcb669",
   "metadata": {},
   "outputs": [
    {
     "data": {
      "text/plain": [
       "[0, 1, 4, 9, 16]"
      ]
     },
     "execution_count": 2,
     "metadata": {},
     "output_type": "execute_result"
    }
   ],
   "source": [
    "def longSquare(num):\n",
    "    time.sleep(1)\n",
    "    return num**2\n",
    "[longSquare(n) for n in range (0,5)]    "
   ]
  },
  {
   "cell_type": "code",
   "execution_count": 5,
   "id": "32c200d6-4a64-4f9c-adf4-cc2459932135",
   "metadata": {},
   "outputs": [],
   "source": [
    "t1=threading.Thread(target = longSquare, args=(1,))\n",
    "t2=threading.Thread(target = longSquare, args=(2,))\n",
    "\n",
    "t1.start()\n",
    "t2.start()\n",
    "\n",
    "t1.join()\n",
    "t2.join()\n"
   ]
  },
  {
   "cell_type": "code",
   "execution_count": 7,
   "id": "bfa35db8-fe6d-4431-a7a1-2c48b596c312",
   "metadata": {},
   "outputs": [
    {
     "name": "stdout",
     "output_type": "stream",
     "text": [
      "{2: 4, 1: 1}\n"
     ]
    }
   ],
   "source": [
    "def longSquare(num,results):\n",
    "    time.sleep(1)\n",
    "    results[num]= num**2\n",
    "\n",
    "results={}\n",
    "t1=threading.Thread(target = longSquare, args=(1,results))\n",
    "t2=threading.Thread(target = longSquare, args=(2,results))\n",
    "\n",
    "t1.start()\n",
    "t2.start()\n",
    "\n",
    "t1.join()\n",
    "t2.join()    \n",
    "\n",
    "print(results)"
   ]
  },
  {
   "cell_type": "code",
   "execution_count": 8,
   "id": "c3589cee-910c-4726-9286-52e9c158e4ff",
   "metadata": {},
   "outputs": [
    {
     "name": "stdout",
     "output_type": "stream",
     "text": [
      "{8: 64, 7: 49, 6: 36, 5: 25, 4: 16, 3: 9, 2: 4, 1: 1, 9: 81, 0: 0}\n"
     ]
    }
   ],
   "source": [
    "def longSquare(num,results):\n",
    "    time.sleep(1)\n",
    "    results[num]= num**2\n",
    "results={}\n",
    "threads =[threading.Thread (target=longSquare , args=(n,results)) for n in range(0,10)]\n",
    "[t.start() for t in threads]\n",
    "[t.join() for t in threads]\n",
    "print(results)    \n",
    "    "
   ]
  },
  {
   "cell_type": "code",
   "execution_count": null,
   "id": "307e535c-7c48-48f7-9a61-4182e4f4bbb0",
   "metadata": {},
   "outputs": [],
   "source": []
  }
 ],
 "metadata": {
  "kernelspec": {
   "display_name": "Python 3 (ipykernel)",
   "language": "python",
   "name": "python3"
  },
  "language_info": {
   "codemirror_mode": {
    "name": "ipython",
    "version": 3
   },
   "file_extension": ".py",
   "mimetype": "text/x-python",
   "name": "python",
   "nbconvert_exporter": "python",
   "pygments_lexer": "ipython3",
   "version": "3.10.0"
  }
 },
 "nbformat": 4,
 "nbformat_minor": 5
}
